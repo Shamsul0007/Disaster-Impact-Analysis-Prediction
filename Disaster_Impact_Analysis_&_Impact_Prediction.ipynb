{
  "nbformat": 4,
  "nbformat_minor": 0,
  "metadata": {
    "colab": {
      "provenance": [],
      "mount_file_id": "1R18c_UTG-hKYJnx8hfmDbJiAp7h1RBUI",
      "authorship_tag": "ABX9TyMQUT3HZy/s+MpzUfIm/eY9",
      "include_colab_link": true
    },
    "kernelspec": {
      "name": "python3",
      "display_name": "Python 3"
    },
    "language_info": {
      "name": "python"
    }
  },
  "cells": [
    {
      "cell_type": "markdown",
      "metadata": {
        "id": "view-in-github",
        "colab_type": "text"
      },
      "source": [
        "<a href=\"https://colab.research.google.com/github/Shamsul0007/Disaster-Impact-Analysis-Prediction/blob/main/Disaster_Impact_Analysis_%26_Impact_Prediction.ipynb\" target=\"_parent\"><img src=\"https://colab.research.google.com/assets/colab-badge.svg\" alt=\"Open In Colab\"/></a>"
      ]
    },
    {
      "cell_type": "markdown",
      "source": [
        "Data Import"
      ],
      "metadata": {
        "id": "Pz3QeWEKYhQD"
      }
    },
    {
      "cell_type": "code",
      "execution_count": 3,
      "metadata": {
        "id": "lG96DJ1KEWtI"
      },
      "outputs": [],
      "source": [
        "import numpy as np\n",
        "import pandas as pd\n",
        "import matplotlib.pyplot as plt\n",
        "import seaborn as sns"
      ]
    },
    {
      "cell_type": "code",
      "source": [
        "df= pd.read_csv(\"/content/disaster_dataset.csv\")\n",
        "df.head()"
      ],
      "metadata": {
        "colab": {
          "base_uri": "https://localhost:8080/",
          "height": 226
        },
        "id": "9Ll9p7InGW92",
        "outputId": "1927ce73-fcab-462f-93ff-1358424b0a37"
      },
      "execution_count": 4,
      "outputs": [
        {
          "output_type": "execute_result",
          "data": {
            "text/plain": [
              "   Disaster_ID Disaster_Type  Region  Year Severity_Level  \\\n",
              "0            1      Wildfire    Asia  1987       Moderate   \n",
              "1            2       Tornado    Asia  2004         Severe   \n",
              "2            3     Hurricane    Asia  1983            Low   \n",
              "3            4       Tornado    Asia  2012         Severe   \n",
              "4            5       Tornado  Africa  1980         Severe   \n",
              "\n",
              "   Magnitude_or_Intensity  Economic_Loss_USD_Million  Fatalities  \\\n",
              "0                    4.32                    1995.35          23   \n",
              "1                    4.33                    4139.49          25   \n",
              "2                    1.47                     861.83          15   \n",
              "3                    7.91                     162.01          21   \n",
              "4                    4.75                    1030.20          23   \n",
              "\n",
              "   Affected_Population  \n",
              "0               414850  \n",
              "1               877802  \n",
              "2               494749  \n",
              "3               164044  \n",
              "4               499053  "
            ],
            "text/html": [
              "\n",
              "  <div id=\"df-90b9180f-f3bf-4c93-947c-b0bc88570a68\" class=\"colab-df-container\">\n",
              "    <div>\n",
              "<style scoped>\n",
              "    .dataframe tbody tr th:only-of-type {\n",
              "        vertical-align: middle;\n",
              "    }\n",
              "\n",
              "    .dataframe tbody tr th {\n",
              "        vertical-align: top;\n",
              "    }\n",
              "\n",
              "    .dataframe thead th {\n",
              "        text-align: right;\n",
              "    }\n",
              "</style>\n",
              "<table border=\"1\" class=\"dataframe\">\n",
              "  <thead>\n",
              "    <tr style=\"text-align: right;\">\n",
              "      <th></th>\n",
              "      <th>Disaster_ID</th>\n",
              "      <th>Disaster_Type</th>\n",
              "      <th>Region</th>\n",
              "      <th>Year</th>\n",
              "      <th>Severity_Level</th>\n",
              "      <th>Magnitude_or_Intensity</th>\n",
              "      <th>Economic_Loss_USD_Million</th>\n",
              "      <th>Fatalities</th>\n",
              "      <th>Affected_Population</th>\n",
              "    </tr>\n",
              "  </thead>\n",
              "  <tbody>\n",
              "    <tr>\n",
              "      <th>0</th>\n",
              "      <td>1</td>\n",
              "      <td>Wildfire</td>\n",
              "      <td>Asia</td>\n",
              "      <td>1987</td>\n",
              "      <td>Moderate</td>\n",
              "      <td>4.32</td>\n",
              "      <td>1995.35</td>\n",
              "      <td>23</td>\n",
              "      <td>414850</td>\n",
              "    </tr>\n",
              "    <tr>\n",
              "      <th>1</th>\n",
              "      <td>2</td>\n",
              "      <td>Tornado</td>\n",
              "      <td>Asia</td>\n",
              "      <td>2004</td>\n",
              "      <td>Severe</td>\n",
              "      <td>4.33</td>\n",
              "      <td>4139.49</td>\n",
              "      <td>25</td>\n",
              "      <td>877802</td>\n",
              "    </tr>\n",
              "    <tr>\n",
              "      <th>2</th>\n",
              "      <td>3</td>\n",
              "      <td>Hurricane</td>\n",
              "      <td>Asia</td>\n",
              "      <td>1983</td>\n",
              "      <td>Low</td>\n",
              "      <td>1.47</td>\n",
              "      <td>861.83</td>\n",
              "      <td>15</td>\n",
              "      <td>494749</td>\n",
              "    </tr>\n",
              "    <tr>\n",
              "      <th>3</th>\n",
              "      <td>4</td>\n",
              "      <td>Tornado</td>\n",
              "      <td>Asia</td>\n",
              "      <td>2012</td>\n",
              "      <td>Severe</td>\n",
              "      <td>7.91</td>\n",
              "      <td>162.01</td>\n",
              "      <td>21</td>\n",
              "      <td>164044</td>\n",
              "    </tr>\n",
              "    <tr>\n",
              "      <th>4</th>\n",
              "      <td>5</td>\n",
              "      <td>Tornado</td>\n",
              "      <td>Africa</td>\n",
              "      <td>1980</td>\n",
              "      <td>Severe</td>\n",
              "      <td>4.75</td>\n",
              "      <td>1030.20</td>\n",
              "      <td>23</td>\n",
              "      <td>499053</td>\n",
              "    </tr>\n",
              "  </tbody>\n",
              "</table>\n",
              "</div>\n",
              "    <div class=\"colab-df-buttons\">\n",
              "\n",
              "  <div class=\"colab-df-container\">\n",
              "    <button class=\"colab-df-convert\" onclick=\"convertToInteractive('df-90b9180f-f3bf-4c93-947c-b0bc88570a68')\"\n",
              "            title=\"Convert this dataframe to an interactive table.\"\n",
              "            style=\"display:none;\">\n",
              "\n",
              "  <svg xmlns=\"http://www.w3.org/2000/svg\" height=\"24px\" viewBox=\"0 -960 960 960\">\n",
              "    <path d=\"M120-120v-720h720v720H120Zm60-500h600v-160H180v160Zm220 220h160v-160H400v160Zm0 220h160v-160H400v160ZM180-400h160v-160H180v160Zm440 0h160v-160H620v160ZM180-180h160v-160H180v160Zm440 0h160v-160H620v160Z\"/>\n",
              "  </svg>\n",
              "    </button>\n",
              "\n",
              "  <style>\n",
              "    .colab-df-container {\n",
              "      display:flex;\n",
              "      gap: 12px;\n",
              "    }\n",
              "\n",
              "    .colab-df-convert {\n",
              "      background-color: #E8F0FE;\n",
              "      border: none;\n",
              "      border-radius: 50%;\n",
              "      cursor: pointer;\n",
              "      display: none;\n",
              "      fill: #1967D2;\n",
              "      height: 32px;\n",
              "      padding: 0 0 0 0;\n",
              "      width: 32px;\n",
              "    }\n",
              "\n",
              "    .colab-df-convert:hover {\n",
              "      background-color: #E2EBFA;\n",
              "      box-shadow: 0px 1px 2px rgba(60, 64, 67, 0.3), 0px 1px 3px 1px rgba(60, 64, 67, 0.15);\n",
              "      fill: #174EA6;\n",
              "    }\n",
              "\n",
              "    .colab-df-buttons div {\n",
              "      margin-bottom: 4px;\n",
              "    }\n",
              "\n",
              "    [theme=dark] .colab-df-convert {\n",
              "      background-color: #3B4455;\n",
              "      fill: #D2E3FC;\n",
              "    }\n",
              "\n",
              "    [theme=dark] .colab-df-convert:hover {\n",
              "      background-color: #434B5C;\n",
              "      box-shadow: 0px 1px 3px 1px rgba(0, 0, 0, 0.15);\n",
              "      filter: drop-shadow(0px 1px 2px rgba(0, 0, 0, 0.3));\n",
              "      fill: #FFFFFF;\n",
              "    }\n",
              "  </style>\n",
              "\n",
              "    <script>\n",
              "      const buttonEl =\n",
              "        document.querySelector('#df-90b9180f-f3bf-4c93-947c-b0bc88570a68 button.colab-df-convert');\n",
              "      buttonEl.style.display =\n",
              "        google.colab.kernel.accessAllowed ? 'block' : 'none';\n",
              "\n",
              "      async function convertToInteractive(key) {\n",
              "        const element = document.querySelector('#df-90b9180f-f3bf-4c93-947c-b0bc88570a68');\n",
              "        const dataTable =\n",
              "          await google.colab.kernel.invokeFunction('convertToInteractive',\n",
              "                                                    [key], {});\n",
              "        if (!dataTable) return;\n",
              "\n",
              "        const docLinkHtml = 'Like what you see? Visit the ' +\n",
              "          '<a target=\"_blank\" href=https://colab.research.google.com/notebooks/data_table.ipynb>data table notebook</a>'\n",
              "          + ' to learn more about interactive tables.';\n",
              "        element.innerHTML = '';\n",
              "        dataTable['output_type'] = 'display_data';\n",
              "        await google.colab.output.renderOutput(dataTable, element);\n",
              "        const docLink = document.createElement('div');\n",
              "        docLink.innerHTML = docLinkHtml;\n",
              "        element.appendChild(docLink);\n",
              "      }\n",
              "    </script>\n",
              "  </div>\n",
              "\n",
              "\n",
              "    <div id=\"df-6be94a92-e6ea-4654-96f3-3c0c0bcecf4e\">\n",
              "      <button class=\"colab-df-quickchart\" onclick=\"quickchart('df-6be94a92-e6ea-4654-96f3-3c0c0bcecf4e')\"\n",
              "                title=\"Suggest charts\"\n",
              "                style=\"display:none;\">\n",
              "\n",
              "<svg xmlns=\"http://www.w3.org/2000/svg\" height=\"24px\"viewBox=\"0 0 24 24\"\n",
              "     width=\"24px\">\n",
              "    <g>\n",
              "        <path d=\"M19 3H5c-1.1 0-2 .9-2 2v14c0 1.1.9 2 2 2h14c1.1 0 2-.9 2-2V5c0-1.1-.9-2-2-2zM9 17H7v-7h2v7zm4 0h-2V7h2v10zm4 0h-2v-4h2v4z\"/>\n",
              "    </g>\n",
              "</svg>\n",
              "      </button>\n",
              "\n",
              "<style>\n",
              "  .colab-df-quickchart {\n",
              "      --bg-color: #E8F0FE;\n",
              "      --fill-color: #1967D2;\n",
              "      --hover-bg-color: #E2EBFA;\n",
              "      --hover-fill-color: #174EA6;\n",
              "      --disabled-fill-color: #AAA;\n",
              "      --disabled-bg-color: #DDD;\n",
              "  }\n",
              "\n",
              "  [theme=dark] .colab-df-quickchart {\n",
              "      --bg-color: #3B4455;\n",
              "      --fill-color: #D2E3FC;\n",
              "      --hover-bg-color: #434B5C;\n",
              "      --hover-fill-color: #FFFFFF;\n",
              "      --disabled-bg-color: #3B4455;\n",
              "      --disabled-fill-color: #666;\n",
              "  }\n",
              "\n",
              "  .colab-df-quickchart {\n",
              "    background-color: var(--bg-color);\n",
              "    border: none;\n",
              "    border-radius: 50%;\n",
              "    cursor: pointer;\n",
              "    display: none;\n",
              "    fill: var(--fill-color);\n",
              "    height: 32px;\n",
              "    padding: 0;\n",
              "    width: 32px;\n",
              "  }\n",
              "\n",
              "  .colab-df-quickchart:hover {\n",
              "    background-color: var(--hover-bg-color);\n",
              "    box-shadow: 0 1px 2px rgba(60, 64, 67, 0.3), 0 1px 3px 1px rgba(60, 64, 67, 0.15);\n",
              "    fill: var(--button-hover-fill-color);\n",
              "  }\n",
              "\n",
              "  .colab-df-quickchart-complete:disabled,\n",
              "  .colab-df-quickchart-complete:disabled:hover {\n",
              "    background-color: var(--disabled-bg-color);\n",
              "    fill: var(--disabled-fill-color);\n",
              "    box-shadow: none;\n",
              "  }\n",
              "\n",
              "  .colab-df-spinner {\n",
              "    border: 2px solid var(--fill-color);\n",
              "    border-color: transparent;\n",
              "    border-bottom-color: var(--fill-color);\n",
              "    animation:\n",
              "      spin 1s steps(1) infinite;\n",
              "  }\n",
              "\n",
              "  @keyframes spin {\n",
              "    0% {\n",
              "      border-color: transparent;\n",
              "      border-bottom-color: var(--fill-color);\n",
              "      border-left-color: var(--fill-color);\n",
              "    }\n",
              "    20% {\n",
              "      border-color: transparent;\n",
              "      border-left-color: var(--fill-color);\n",
              "      border-top-color: var(--fill-color);\n",
              "    }\n",
              "    30% {\n",
              "      border-color: transparent;\n",
              "      border-left-color: var(--fill-color);\n",
              "      border-top-color: var(--fill-color);\n",
              "      border-right-color: var(--fill-color);\n",
              "    }\n",
              "    40% {\n",
              "      border-color: transparent;\n",
              "      border-right-color: var(--fill-color);\n",
              "      border-top-color: var(--fill-color);\n",
              "    }\n",
              "    60% {\n",
              "      border-color: transparent;\n",
              "      border-right-color: var(--fill-color);\n",
              "    }\n",
              "    80% {\n",
              "      border-color: transparent;\n",
              "      border-right-color: var(--fill-color);\n",
              "      border-bottom-color: var(--fill-color);\n",
              "    }\n",
              "    90% {\n",
              "      border-color: transparent;\n",
              "      border-bottom-color: var(--fill-color);\n",
              "    }\n",
              "  }\n",
              "</style>\n",
              "\n",
              "      <script>\n",
              "        async function quickchart(key) {\n",
              "          const quickchartButtonEl =\n",
              "            document.querySelector('#' + key + ' button');\n",
              "          quickchartButtonEl.disabled = true;  // To prevent multiple clicks.\n",
              "          quickchartButtonEl.classList.add('colab-df-spinner');\n",
              "          try {\n",
              "            const charts = await google.colab.kernel.invokeFunction(\n",
              "                'suggestCharts', [key], {});\n",
              "          } catch (error) {\n",
              "            console.error('Error during call to suggestCharts:', error);\n",
              "          }\n",
              "          quickchartButtonEl.classList.remove('colab-df-spinner');\n",
              "          quickchartButtonEl.classList.add('colab-df-quickchart-complete');\n",
              "        }\n",
              "        (() => {\n",
              "          let quickchartButtonEl =\n",
              "            document.querySelector('#df-6be94a92-e6ea-4654-96f3-3c0c0bcecf4e button');\n",
              "          quickchartButtonEl.style.display =\n",
              "            google.colab.kernel.accessAllowed ? 'block' : 'none';\n",
              "        })();\n",
              "      </script>\n",
              "    </div>\n",
              "\n",
              "    </div>\n",
              "  </div>\n"
            ],
            "application/vnd.google.colaboratory.intrinsic+json": {
              "type": "dataframe",
              "variable_name": "df",
              "summary": "{\n  \"name\": \"df\",\n  \"rows\": 1000,\n  \"fields\": [\n    {\n      \"column\": \"Disaster_ID\",\n      \"properties\": {\n        \"dtype\": \"number\",\n        \"std\": 288,\n        \"min\": 1,\n        \"max\": 1000,\n        \"num_unique_values\": 1000,\n        \"samples\": [\n          522,\n          738,\n          741\n        ],\n        \"semantic_type\": \"\",\n        \"description\": \"\"\n      }\n    },\n    {\n      \"column\": \"Disaster_Type\",\n      \"properties\": {\n        \"dtype\": \"category\",\n        \"num_unique_values\": 5,\n        \"samples\": [\n          \"Tornado\",\n          \"Earthquake\",\n          \"Hurricane\"\n        ],\n        \"semantic_type\": \"\",\n        \"description\": \"\"\n      }\n    },\n    {\n      \"column\": \"Region\",\n      \"properties\": {\n        \"dtype\": \"category\",\n        \"num_unique_values\": 6,\n        \"samples\": [\n          \"Asia\",\n          \"Africa\",\n          \"Europe\"\n        ],\n        \"semantic_type\": \"\",\n        \"description\": \"\"\n      }\n    },\n    {\n      \"column\": \"Year\",\n      \"properties\": {\n        \"dtype\": \"number\",\n        \"std\": 12,\n        \"min\": 1980,\n        \"max\": 2024,\n        \"num_unique_values\": 45,\n        \"samples\": [\n          2021,\n          2000,\n          1994\n        ],\n        \"semantic_type\": \"\",\n        \"description\": \"\"\n      }\n    },\n    {\n      \"column\": \"Severity_Level\",\n      \"properties\": {\n        \"dtype\": \"category\",\n        \"num_unique_values\": 4,\n        \"samples\": [\n          \"Severe\",\n          \"High\",\n          \"Moderate\"\n        ],\n        \"semantic_type\": \"\",\n        \"description\": \"\"\n      }\n    },\n    {\n      \"column\": \"Magnitude_or_Intensity\",\n      \"properties\": {\n        \"dtype\": \"number\",\n        \"std\": 2.591916506965278,\n        \"min\": 1.0,\n        \"max\": 10.0,\n        \"num_unique_values\": 611,\n        \"samples\": [\n          8.07,\n          8.88,\n          3.39\n        ],\n        \"semantic_type\": \"\",\n        \"description\": \"\"\n      }\n    },\n    {\n      \"column\": \"Economic_Loss_USD_Million\",\n      \"properties\": {\n        \"dtype\": \"number\",\n        \"std\": 1428.5838142163093,\n        \"min\": 10.15,\n        \"max\": 4988.77,\n        \"num_unique_values\": 1000,\n        \"samples\": [\n          2226.08,\n          499.06,\n          2710.94\n        ],\n        \"semantic_type\": \"\",\n        \"description\": \"\"\n      }\n    },\n    {\n      \"column\": \"Fatalities\",\n      \"properties\": {\n        \"dtype\": \"number\",\n        \"std\": 4,\n        \"min\": 8,\n        \"max\": 33,\n        \"num_unique_values\": 26,\n        \"samples\": [\n          17,\n          14,\n          23\n        ],\n        \"semantic_type\": \"\",\n        \"description\": \"\"\n      }\n    },\n    {\n      \"column\": \"Affected_Population\",\n      \"properties\": {\n        \"dtype\": \"number\",\n        \"std\": 293084,\n        \"min\": 137,\n        \"max\": 999290,\n        \"num_unique_values\": 1000,\n        \"samples\": [\n          804214,\n          400122,\n          126965\n        ],\n        \"semantic_type\": \"\",\n        \"description\": \"\"\n      }\n    }\n  ]\n}"
            }
          },
          "metadata": {},
          "execution_count": 4
        }
      ]
    },
    {
      "cell_type": "code",
      "source": [
        "summary= df.describe()\n"
      ],
      "metadata": {
        "id": "aExj9giwGeXD"
      },
      "execution_count": 5,
      "outputs": []
    },
    {
      "cell_type": "code",
      "source": [
        "summary"
      ],
      "metadata": {
        "colab": {
          "base_uri": "https://localhost:8080/",
          "height": 300
        },
        "id": "mBCrrO4QHIVP",
        "outputId": "a5b49137-a5aa-45bd-83b0-8659dafd8a12"
      },
      "execution_count": 6,
      "outputs": [
        {
          "output_type": "execute_result",
          "data": {
            "text/plain": [
              "       Disaster_ID         Year  Magnitude_or_Intensity  \\\n",
              "count  1000.000000  1000.000000             1000.000000   \n",
              "mean    500.500000  2001.668000                5.482890   \n",
              "std     288.819436    12.899542                2.591917   \n",
              "min       1.000000  1980.000000                1.000000   \n",
              "25%     250.750000  1990.000000                3.237500   \n",
              "50%     500.500000  2001.000000                5.495000   \n",
              "75%     750.250000  2013.000000                7.742500   \n",
              "max    1000.000000  2024.000000               10.000000   \n",
              "\n",
              "       Economic_Loss_USD_Million   Fatalities  Affected_Population  \n",
              "count                1000.000000  1000.000000          1000.000000  \n",
              "mean                 2459.391680    19.812000        525247.196000  \n",
              "std                  1428.583814     4.551414        293084.473948  \n",
              "min                    10.150000     8.000000           137.000000  \n",
              "25%                  1210.775000    17.000000        273694.750000  \n",
              "50%                  2468.460000    20.000000        524678.000000  \n",
              "75%                  3660.132500    23.000000        784404.250000  \n",
              "max                  4988.770000    33.000000        999290.000000  "
            ],
            "text/html": [
              "\n",
              "  <div id=\"df-32157b4c-f29b-4734-a836-ccd8b8eeedbb\" class=\"colab-df-container\">\n",
              "    <div>\n",
              "<style scoped>\n",
              "    .dataframe tbody tr th:only-of-type {\n",
              "        vertical-align: middle;\n",
              "    }\n",
              "\n",
              "    .dataframe tbody tr th {\n",
              "        vertical-align: top;\n",
              "    }\n",
              "\n",
              "    .dataframe thead th {\n",
              "        text-align: right;\n",
              "    }\n",
              "</style>\n",
              "<table border=\"1\" class=\"dataframe\">\n",
              "  <thead>\n",
              "    <tr style=\"text-align: right;\">\n",
              "      <th></th>\n",
              "      <th>Disaster_ID</th>\n",
              "      <th>Year</th>\n",
              "      <th>Magnitude_or_Intensity</th>\n",
              "      <th>Economic_Loss_USD_Million</th>\n",
              "      <th>Fatalities</th>\n",
              "      <th>Affected_Population</th>\n",
              "    </tr>\n",
              "  </thead>\n",
              "  <tbody>\n",
              "    <tr>\n",
              "      <th>count</th>\n",
              "      <td>1000.000000</td>\n",
              "      <td>1000.000000</td>\n",
              "      <td>1000.000000</td>\n",
              "      <td>1000.000000</td>\n",
              "      <td>1000.000000</td>\n",
              "      <td>1000.000000</td>\n",
              "    </tr>\n",
              "    <tr>\n",
              "      <th>mean</th>\n",
              "      <td>500.500000</td>\n",
              "      <td>2001.668000</td>\n",
              "      <td>5.482890</td>\n",
              "      <td>2459.391680</td>\n",
              "      <td>19.812000</td>\n",
              "      <td>525247.196000</td>\n",
              "    </tr>\n",
              "    <tr>\n",
              "      <th>std</th>\n",
              "      <td>288.819436</td>\n",
              "      <td>12.899542</td>\n",
              "      <td>2.591917</td>\n",
              "      <td>1428.583814</td>\n",
              "      <td>4.551414</td>\n",
              "      <td>293084.473948</td>\n",
              "    </tr>\n",
              "    <tr>\n",
              "      <th>min</th>\n",
              "      <td>1.000000</td>\n",
              "      <td>1980.000000</td>\n",
              "      <td>1.000000</td>\n",
              "      <td>10.150000</td>\n",
              "      <td>8.000000</td>\n",
              "      <td>137.000000</td>\n",
              "    </tr>\n",
              "    <tr>\n",
              "      <th>25%</th>\n",
              "      <td>250.750000</td>\n",
              "      <td>1990.000000</td>\n",
              "      <td>3.237500</td>\n",
              "      <td>1210.775000</td>\n",
              "      <td>17.000000</td>\n",
              "      <td>273694.750000</td>\n",
              "    </tr>\n",
              "    <tr>\n",
              "      <th>50%</th>\n",
              "      <td>500.500000</td>\n",
              "      <td>2001.000000</td>\n",
              "      <td>5.495000</td>\n",
              "      <td>2468.460000</td>\n",
              "      <td>20.000000</td>\n",
              "      <td>524678.000000</td>\n",
              "    </tr>\n",
              "    <tr>\n",
              "      <th>75%</th>\n",
              "      <td>750.250000</td>\n",
              "      <td>2013.000000</td>\n",
              "      <td>7.742500</td>\n",
              "      <td>3660.132500</td>\n",
              "      <td>23.000000</td>\n",
              "      <td>784404.250000</td>\n",
              "    </tr>\n",
              "    <tr>\n",
              "      <th>max</th>\n",
              "      <td>1000.000000</td>\n",
              "      <td>2024.000000</td>\n",
              "      <td>10.000000</td>\n",
              "      <td>4988.770000</td>\n",
              "      <td>33.000000</td>\n",
              "      <td>999290.000000</td>\n",
              "    </tr>\n",
              "  </tbody>\n",
              "</table>\n",
              "</div>\n",
              "    <div class=\"colab-df-buttons\">\n",
              "\n",
              "  <div class=\"colab-df-container\">\n",
              "    <button class=\"colab-df-convert\" onclick=\"convertToInteractive('df-32157b4c-f29b-4734-a836-ccd8b8eeedbb')\"\n",
              "            title=\"Convert this dataframe to an interactive table.\"\n",
              "            style=\"display:none;\">\n",
              "\n",
              "  <svg xmlns=\"http://www.w3.org/2000/svg\" height=\"24px\" viewBox=\"0 -960 960 960\">\n",
              "    <path d=\"M120-120v-720h720v720H120Zm60-500h600v-160H180v160Zm220 220h160v-160H400v160Zm0 220h160v-160H400v160ZM180-400h160v-160H180v160Zm440 0h160v-160H620v160ZM180-180h160v-160H180v160Zm440 0h160v-160H620v160Z\"/>\n",
              "  </svg>\n",
              "    </button>\n",
              "\n",
              "  <style>\n",
              "    .colab-df-container {\n",
              "      display:flex;\n",
              "      gap: 12px;\n",
              "    }\n",
              "\n",
              "    .colab-df-convert {\n",
              "      background-color: #E8F0FE;\n",
              "      border: none;\n",
              "      border-radius: 50%;\n",
              "      cursor: pointer;\n",
              "      display: none;\n",
              "      fill: #1967D2;\n",
              "      height: 32px;\n",
              "      padding: 0 0 0 0;\n",
              "      width: 32px;\n",
              "    }\n",
              "\n",
              "    .colab-df-convert:hover {\n",
              "      background-color: #E2EBFA;\n",
              "      box-shadow: 0px 1px 2px rgba(60, 64, 67, 0.3), 0px 1px 3px 1px rgba(60, 64, 67, 0.15);\n",
              "      fill: #174EA6;\n",
              "    }\n",
              "\n",
              "    .colab-df-buttons div {\n",
              "      margin-bottom: 4px;\n",
              "    }\n",
              "\n",
              "    [theme=dark] .colab-df-convert {\n",
              "      background-color: #3B4455;\n",
              "      fill: #D2E3FC;\n",
              "    }\n",
              "\n",
              "    [theme=dark] .colab-df-convert:hover {\n",
              "      background-color: #434B5C;\n",
              "      box-shadow: 0px 1px 3px 1px rgba(0, 0, 0, 0.15);\n",
              "      filter: drop-shadow(0px 1px 2px rgba(0, 0, 0, 0.3));\n",
              "      fill: #FFFFFF;\n",
              "    }\n",
              "  </style>\n",
              "\n",
              "    <script>\n",
              "      const buttonEl =\n",
              "        document.querySelector('#df-32157b4c-f29b-4734-a836-ccd8b8eeedbb button.colab-df-convert');\n",
              "      buttonEl.style.display =\n",
              "        google.colab.kernel.accessAllowed ? 'block' : 'none';\n",
              "\n",
              "      async function convertToInteractive(key) {\n",
              "        const element = document.querySelector('#df-32157b4c-f29b-4734-a836-ccd8b8eeedbb');\n",
              "        const dataTable =\n",
              "          await google.colab.kernel.invokeFunction('convertToInteractive',\n",
              "                                                    [key], {});\n",
              "        if (!dataTable) return;\n",
              "\n",
              "        const docLinkHtml = 'Like what you see? Visit the ' +\n",
              "          '<a target=\"_blank\" href=https://colab.research.google.com/notebooks/data_table.ipynb>data table notebook</a>'\n",
              "          + ' to learn more about interactive tables.';\n",
              "        element.innerHTML = '';\n",
              "        dataTable['output_type'] = 'display_data';\n",
              "        await google.colab.output.renderOutput(dataTable, element);\n",
              "        const docLink = document.createElement('div');\n",
              "        docLink.innerHTML = docLinkHtml;\n",
              "        element.appendChild(docLink);\n",
              "      }\n",
              "    </script>\n",
              "  </div>\n",
              "\n",
              "\n",
              "    <div id=\"df-cc2e710a-bf8a-4c0a-9f4b-611805814f34\">\n",
              "      <button class=\"colab-df-quickchart\" onclick=\"quickchart('df-cc2e710a-bf8a-4c0a-9f4b-611805814f34')\"\n",
              "                title=\"Suggest charts\"\n",
              "                style=\"display:none;\">\n",
              "\n",
              "<svg xmlns=\"http://www.w3.org/2000/svg\" height=\"24px\"viewBox=\"0 0 24 24\"\n",
              "     width=\"24px\">\n",
              "    <g>\n",
              "        <path d=\"M19 3H5c-1.1 0-2 .9-2 2v14c0 1.1.9 2 2 2h14c1.1 0 2-.9 2-2V5c0-1.1-.9-2-2-2zM9 17H7v-7h2v7zm4 0h-2V7h2v10zm4 0h-2v-4h2v4z\"/>\n",
              "    </g>\n",
              "</svg>\n",
              "      </button>\n",
              "\n",
              "<style>\n",
              "  .colab-df-quickchart {\n",
              "      --bg-color: #E8F0FE;\n",
              "      --fill-color: #1967D2;\n",
              "      --hover-bg-color: #E2EBFA;\n",
              "      --hover-fill-color: #174EA6;\n",
              "      --disabled-fill-color: #AAA;\n",
              "      --disabled-bg-color: #DDD;\n",
              "  }\n",
              "\n",
              "  [theme=dark] .colab-df-quickchart {\n",
              "      --bg-color: #3B4455;\n",
              "      --fill-color: #D2E3FC;\n",
              "      --hover-bg-color: #434B5C;\n",
              "      --hover-fill-color: #FFFFFF;\n",
              "      --disabled-bg-color: #3B4455;\n",
              "      --disabled-fill-color: #666;\n",
              "  }\n",
              "\n",
              "  .colab-df-quickchart {\n",
              "    background-color: var(--bg-color);\n",
              "    border: none;\n",
              "    border-radius: 50%;\n",
              "    cursor: pointer;\n",
              "    display: none;\n",
              "    fill: var(--fill-color);\n",
              "    height: 32px;\n",
              "    padding: 0;\n",
              "    width: 32px;\n",
              "  }\n",
              "\n",
              "  .colab-df-quickchart:hover {\n",
              "    background-color: var(--hover-bg-color);\n",
              "    box-shadow: 0 1px 2px rgba(60, 64, 67, 0.3), 0 1px 3px 1px rgba(60, 64, 67, 0.15);\n",
              "    fill: var(--button-hover-fill-color);\n",
              "  }\n",
              "\n",
              "  .colab-df-quickchart-complete:disabled,\n",
              "  .colab-df-quickchart-complete:disabled:hover {\n",
              "    background-color: var(--disabled-bg-color);\n",
              "    fill: var(--disabled-fill-color);\n",
              "    box-shadow: none;\n",
              "  }\n",
              "\n",
              "  .colab-df-spinner {\n",
              "    border: 2px solid var(--fill-color);\n",
              "    border-color: transparent;\n",
              "    border-bottom-color: var(--fill-color);\n",
              "    animation:\n",
              "      spin 1s steps(1) infinite;\n",
              "  }\n",
              "\n",
              "  @keyframes spin {\n",
              "    0% {\n",
              "      border-color: transparent;\n",
              "      border-bottom-color: var(--fill-color);\n",
              "      border-left-color: var(--fill-color);\n",
              "    }\n",
              "    20% {\n",
              "      border-color: transparent;\n",
              "      border-left-color: var(--fill-color);\n",
              "      border-top-color: var(--fill-color);\n",
              "    }\n",
              "    30% {\n",
              "      border-color: transparent;\n",
              "      border-left-color: var(--fill-color);\n",
              "      border-top-color: var(--fill-color);\n",
              "      border-right-color: var(--fill-color);\n",
              "    }\n",
              "    40% {\n",
              "      border-color: transparent;\n",
              "      border-right-color: var(--fill-color);\n",
              "      border-top-color: var(--fill-color);\n",
              "    }\n",
              "    60% {\n",
              "      border-color: transparent;\n",
              "      border-right-color: var(--fill-color);\n",
              "    }\n",
              "    80% {\n",
              "      border-color: transparent;\n",
              "      border-right-color: var(--fill-color);\n",
              "      border-bottom-color: var(--fill-color);\n",
              "    }\n",
              "    90% {\n",
              "      border-color: transparent;\n",
              "      border-bottom-color: var(--fill-color);\n",
              "    }\n",
              "  }\n",
              "</style>\n",
              "\n",
              "      <script>\n",
              "        async function quickchart(key) {\n",
              "          const quickchartButtonEl =\n",
              "            document.querySelector('#' + key + ' button');\n",
              "          quickchartButtonEl.disabled = true;  // To prevent multiple clicks.\n",
              "          quickchartButtonEl.classList.add('colab-df-spinner');\n",
              "          try {\n",
              "            const charts = await google.colab.kernel.invokeFunction(\n",
              "                'suggestCharts', [key], {});\n",
              "          } catch (error) {\n",
              "            console.error('Error during call to suggestCharts:', error);\n",
              "          }\n",
              "          quickchartButtonEl.classList.remove('colab-df-spinner');\n",
              "          quickchartButtonEl.classList.add('colab-df-quickchart-complete');\n",
              "        }\n",
              "        (() => {\n",
              "          let quickchartButtonEl =\n",
              "            document.querySelector('#df-cc2e710a-bf8a-4c0a-9f4b-611805814f34 button');\n",
              "          quickchartButtonEl.style.display =\n",
              "            google.colab.kernel.accessAllowed ? 'block' : 'none';\n",
              "        })();\n",
              "      </script>\n",
              "    </div>\n",
              "\n",
              "  <div id=\"id_063d17bb-7ddf-4958-a72f-083299ea06dc\">\n",
              "    <style>\n",
              "      .colab-df-generate {\n",
              "        background-color: #E8F0FE;\n",
              "        border: none;\n",
              "        border-radius: 50%;\n",
              "        cursor: pointer;\n",
              "        display: none;\n",
              "        fill: #1967D2;\n",
              "        height: 32px;\n",
              "        padding: 0 0 0 0;\n",
              "        width: 32px;\n",
              "      }\n",
              "\n",
              "      .colab-df-generate:hover {\n",
              "        background-color: #E2EBFA;\n",
              "        box-shadow: 0px 1px 2px rgba(60, 64, 67, 0.3), 0px 1px 3px 1px rgba(60, 64, 67, 0.15);\n",
              "        fill: #174EA6;\n",
              "      }\n",
              "\n",
              "      [theme=dark] .colab-df-generate {\n",
              "        background-color: #3B4455;\n",
              "        fill: #D2E3FC;\n",
              "      }\n",
              "\n",
              "      [theme=dark] .colab-df-generate:hover {\n",
              "        background-color: #434B5C;\n",
              "        box-shadow: 0px 1px 3px 1px rgba(0, 0, 0, 0.15);\n",
              "        filter: drop-shadow(0px 1px 2px rgba(0, 0, 0, 0.3));\n",
              "        fill: #FFFFFF;\n",
              "      }\n",
              "    </style>\n",
              "    <button class=\"colab-df-generate\" onclick=\"generateWithVariable('summary')\"\n",
              "            title=\"Generate code using this dataframe.\"\n",
              "            style=\"display:none;\">\n",
              "\n",
              "  <svg xmlns=\"http://www.w3.org/2000/svg\" height=\"24px\"viewBox=\"0 0 24 24\"\n",
              "       width=\"24px\">\n",
              "    <path d=\"M7,19H8.4L18.45,9,17,7.55,7,17.6ZM5,21V16.75L18.45,3.32a2,2,0,0,1,2.83,0l1.4,1.43a1.91,1.91,0,0,1,.58,1.4,1.91,1.91,0,0,1-.58,1.4L9.25,21ZM18.45,9,17,7.55Zm-12,3A5.31,5.31,0,0,0,4.9,8.1,5.31,5.31,0,0,0,1,6.5,5.31,5.31,0,0,0,4.9,4.9,5.31,5.31,0,0,0,6.5,1,5.31,5.31,0,0,0,8.1,4.9,5.31,5.31,0,0,0,12,6.5,5.46,5.46,0,0,0,6.5,12Z\"/>\n",
              "  </svg>\n",
              "    </button>\n",
              "    <script>\n",
              "      (() => {\n",
              "      const buttonEl =\n",
              "        document.querySelector('#id_063d17bb-7ddf-4958-a72f-083299ea06dc button.colab-df-generate');\n",
              "      buttonEl.style.display =\n",
              "        google.colab.kernel.accessAllowed ? 'block' : 'none';\n",
              "\n",
              "      buttonEl.onclick = () => {\n",
              "        google.colab.notebook.generateWithVariable('summary');\n",
              "      }\n",
              "      })();\n",
              "    </script>\n",
              "  </div>\n",
              "\n",
              "    </div>\n",
              "  </div>\n"
            ],
            "application/vnd.google.colaboratory.intrinsic+json": {
              "type": "dataframe",
              "variable_name": "summary",
              "summary": "{\n  \"name\": \"summary\",\n  \"rows\": 8,\n  \"fields\": [\n    {\n      \"column\": \"Disaster_ID\",\n      \"properties\": {\n        \"dtype\": \"number\",\n        \"std\": 360.1000917722167,\n        \"min\": 1.0,\n        \"max\": 1000.0,\n        \"num_unique_values\": 6,\n        \"samples\": [\n          1000.0,\n          500.5,\n          750.25\n        ],\n        \"semantic_type\": \"\",\n        \"description\": \"\"\n      }\n    },\n    {\n      \"column\": \"Year\",\n      \"properties\": {\n        \"dtype\": \"number\",\n        \"std\": 740.8179850071251,\n        \"min\": 12.89954162651426,\n        \"max\": 2024.0,\n        \"num_unique_values\": 8,\n        \"samples\": [\n          2001.668,\n          2001.0,\n          1000.0\n        ],\n        \"semantic_type\": \"\",\n        \"description\": \"\"\n      }\n    },\n    {\n      \"column\": \"Magnitude_or_Intensity\",\n      \"properties\": {\n        \"dtype\": \"number\",\n        \"std\": 351.76960350122323,\n        \"min\": 1.0,\n        \"max\": 1000.0,\n        \"num_unique_values\": 8,\n        \"samples\": [\n          5.48289,\n          5.495,\n          1000.0\n        ],\n        \"semantic_type\": \"\",\n        \"description\": \"\"\n      }\n    },\n    {\n      \"column\": \"Economic_Loss_USD_Million\",\n      \"properties\": {\n        \"dtype\": \"number\",\n        \"std\": 1596.4340611785385,\n        \"min\": 10.15,\n        \"max\": 4988.77,\n        \"num_unique_values\": 8,\n        \"samples\": [\n          2459.3916799999997,\n          2468.46,\n          1000.0\n        ],\n        \"semantic_type\": \"\",\n        \"description\": \"\"\n      }\n    },\n    {\n      \"column\": \"Fatalities\",\n      \"properties\": {\n        \"dtype\": \"number\",\n        \"std\": 347.33246299643855,\n        \"min\": 4.551414216633258,\n        \"max\": 1000.0,\n        \"num_unique_values\": 8,\n        \"samples\": [\n          19.812,\n          20.0,\n          1000.0\n        ],\n        \"semantic_type\": \"\",\n        \"description\": \"\"\n      }\n    },\n    {\n      \"column\": \"Affected_Population\",\n      \"properties\": {\n        \"dtype\": \"number\",\n        \"std\": 354470.4061157061,\n        \"min\": 137.0,\n        \"max\": 999290.0,\n        \"num_unique_values\": 8,\n        \"samples\": [\n          525247.196,\n          524678.0,\n          1000.0\n        ],\n        \"semantic_type\": \"\",\n        \"description\": \"\"\n      }\n    }\n  ]\n}"
            }
          },
          "metadata": {},
          "execution_count": 6
        }
      ]
    },
    {
      "cell_type": "markdown",
      "source": [
        "Data Cleaning"
      ],
      "metadata": {
        "id": "mClRL9B_Ym0Z"
      }
    },
    {
      "cell_type": "code",
      "source": [
        "##Step 2: Data Cleaning\n",
        "\n",
        "## Handle missing values\n",
        "print(\"\\nHandling missing values...\")\n",
        "\n",
        "# Check percentage of missing values\n",
        "missing_percent = df.isnull().mean() * 100\n",
        "print(\"Missing value percentage:\")\n",
        "print(missing_percent)\n"
      ],
      "metadata": {
        "colab": {
          "base_uri": "https://localhost:8080/"
        },
        "id": "JEYB8HRjN1mF",
        "outputId": "7f869117-41c5-4129-9019-d8ceae6e9847"
      },
      "execution_count": 7,
      "outputs": [
        {
          "output_type": "stream",
          "name": "stdout",
          "text": [
            "\n",
            "Handling missing values...\n",
            "Missing value percentage:\n",
            "Disaster_ID                  0.0\n",
            "Disaster_Type                0.0\n",
            "Region                       0.0\n",
            "Year                         0.0\n",
            "Severity_Level               0.0\n",
            "Magnitude_or_Intensity       0.0\n",
            "Economic_Loss_USD_Million    0.0\n",
            "Fatalities                   0.0\n",
            "Affected_Population          0.0\n",
            "dtype: float64\n"
          ]
        }
      ]
    },
    {
      "cell_type": "code",
      "source": [
        "## Handle duplicate entries\n",
        "print(\"\\nChecking for duplicates...\")\n",
        "duplicates = df.duplicated().sum()\n",
        "print(f\"Found {duplicates} duplicate rows\")\n",
        "if duplicates > 0:\n",
        "    df.drop_duplicates(inplace=True)\n",
        "    print(f\"Removed {duplicates} duplicates\")\n"
      ],
      "metadata": {
        "colab": {
          "base_uri": "https://localhost:8080/"
        },
        "id": "5onTVL8xP4fB",
        "outputId": "901d22a4-ae38-4e27-d609-d9ade6a4c92d"
      },
      "execution_count": 8,
      "outputs": [
        {
          "output_type": "stream",
          "name": "stdout",
          "text": [
            "\n",
            "Checking for duplicates...\n",
            "Found 0 duplicate rows\n"
          ]
        }
      ]
    },
    {
      "cell_type": "code",
      "source": [
        "# Convert categorical columns\n",
        "df['Disaster_Type'] = df['Disaster_Type'].astype('category')\n",
        "df['Region'] = df['Region'].astype('category')\n",
        "\n",
        "# Convert Severity_Level with proper ordering\n",
        "severity_order = ['Low', 'Moderate', 'High', 'Severe']\n",
        "df['Severity_Level'] = pd.Categorical(\n",
        "    df['Severity_Level'],\n",
        "    categories=severity_order,\n",
        "    ordered=True\n",
        ")\n",
        "\n",
        "# Verify the conversions\n",
        "print(\"\\nData types after conversion:\")\n",
        "print(df.dtypes)\n",
        "\n",
        "# Verify Severity_Level ordering works\n",
        "print(\"\\nSample severity comparison:\")\n",
        "print(\"Is High > Moderate?\", df['Severity_Level'][0] > df['Severity_Level'][1])"
      ],
      "metadata": {
        "colab": {
          "base_uri": "https://localhost:8080/"
        },
        "id": "DIHfpZCoQGAo",
        "outputId": "4ed240ec-6295-415d-b247-6c317756830e"
      },
      "execution_count": 9,
      "outputs": [
        {
          "output_type": "stream",
          "name": "stdout",
          "text": [
            "\n",
            "Data types after conversion:\n",
            "Disaster_ID                     int64\n",
            "Disaster_Type                category\n",
            "Region                       category\n",
            "Year                            int64\n",
            "Severity_Level               category\n",
            "Magnitude_or_Intensity        float64\n",
            "Economic_Loss_USD_Million     float64\n",
            "Fatalities                      int64\n",
            "Affected_Population             int64\n",
            "dtype: object\n",
            "\n",
            "Sample severity comparison:\n",
            "Is High > Moderate? False\n"
          ]
        }
      ]
    },
    {
      "cell_type": "markdown",
      "source": [
        "Basic Statistics"
      ],
      "metadata": {
        "id": "d36vEOGTYtqQ"
      }
    },
    {
      "cell_type": "code",
      "source": [
        "# Group by Disaster_Type and Region, calculating mean for specified columns\n",
        "grouped_df = df.groupby(['Disaster_Type', 'Region'])[\n",
        "    ['Economic_Loss_USD_Million', 'Fatalities', 'Affected_Population', 'Magnitude_or_Intensity']].mean().reset_index()\n",
        "\n",
        "# Rename columns for clarity\n",
        "grouped_df.columns = [\n",
        "    'Disaster_Type', 'Region', 'Avg_Economic_Loss_USD_Million', 'Avg_Fatalities',\n",
        "    'Avg_Affected_Population', 'Avg_Magnitude_or_Intensity']"
      ],
      "metadata": {
        "colab": {
          "base_uri": "https://localhost:8080/"
        },
        "id": "xuFz7XeTVeTj",
        "outputId": "df47ea7c-bf71-40aa-f56b-c8746dee5c69"
      },
      "execution_count": 10,
      "outputs": [
        {
          "output_type": "stream",
          "name": "stderr",
          "text": [
            "<ipython-input-10-5c67f1498a3c>:2: FutureWarning: The default of observed=False is deprecated and will be changed to True in a future version of pandas. Pass observed=False to retain current behavior or observed=True to adopt the future default and silence this warning.\n",
            "  grouped_df = df.groupby(['Disaster_Type', 'Region'])[\n"
          ]
        }
      ]
    },
    {
      "cell_type": "code",
      "source": [
        "# Sort by Avg_Economic_Loss_USD_Million in descending order for better readability\n",
        "grouped_df = grouped_df.sort_values(by='Avg_Economic_Loss_USD_Million', ascending=False)"
      ],
      "metadata": {
        "id": "_ipEZFurWHHU"
      },
      "execution_count": 11,
      "outputs": []
    },
    {
      "cell_type": "code",
      "source": [
        "# Round numeric columns to 2 decimal places for cleaner output\n",
        "grouped_df[['Avg_Economic_Loss_USD_Million', 'Avg_Fatalities', 'Avg_Affected_Population', 'Avg_Magnitude_or_Intensity']] = \\\n",
        "    grouped_df[['Avg_Economic_Loss_USD_Million', 'Avg_Fatalities', 'Avg_Affected_Population', 'Avg_Magnitude_or_Intensity']].round(2)"
      ],
      "metadata": {
        "id": "TCGSoV3rWP4R"
      },
      "execution_count": 12,
      "outputs": []
    },
    {
      "cell_type": "code",
      "source": [
        "# Display the results\n",
        "print(\"\\nGrouped Averages by Disaster Type and Region:\")\n",
        "print(grouped_df.to_string(index=False))"
      ],
      "metadata": {
        "colab": {
          "base_uri": "https://localhost:8080/"
        },
        "id": "0dHwGg2IWoH-",
        "outputId": "4e6f239c-39bc-4c17-99b0-b2e48278d60b"
      },
      "execution_count": 13,
      "outputs": [
        {
          "output_type": "stream",
          "name": "stdout",
          "text": [
            "\n",
            "Grouped Averages by Disaster Type and Region:\n",
            "Disaster_Type        Region  Avg_Economic_Loss_USD_Million  Avg_Fatalities  Avg_Affected_Population  Avg_Magnitude_or_Intensity\n",
            "     Wildfire        Europe                        2938.17           20.63                653236.34                        4.43\n",
            "   Earthquake        Europe                        2922.03           20.19                590468.94                        6.58\n",
            "      Tornado South America                        2816.24           20.72                554608.17                        5.80\n",
            "        Flood North America                        2815.98           19.50                462055.16                        4.77\n",
            "     Wildfire        Africa                        2762.03           19.97                498580.91                        5.61\n",
            "    Hurricane        Europe                        2664.23           22.04                478449.56                        5.81\n",
            "   Earthquake        Africa                        2590.49           20.03                441472.53                        5.16\n",
            "      Tornado North America                        2584.45           20.84                528757.53                        5.48\n",
            "        Flood South America                        2571.98           18.90                519091.67                        5.43\n",
            "    Hurricane South America                        2531.51           19.56                526357.28                        5.14\n",
            "      Tornado        Africa                        2504.81           20.34                591558.54                        6.03\n",
            "   Earthquake South America                        2489.51           18.72                512273.25                        5.34\n",
            "      Tornado          Asia                        2484.01           19.83                562820.40                        5.31\n",
            "    Hurricane North America                        2427.15           20.15                457453.88                        5.04\n",
            "   Earthquake     Australia                        2417.38           20.13                571421.37                        5.43\n",
            "    Hurricane        Africa                        2411.30           18.88                501781.35                        5.04\n",
            "     Wildfire South America                        2363.49           19.92                528785.67                        5.29\n",
            "     Wildfire North America                        2351.80           19.24                432245.21                        5.45\n",
            "        Flood          Asia                        2347.07           19.60                457541.40                        6.13\n",
            "   Earthquake North America                        2343.90           18.67                589486.39                        5.51\n",
            "    Hurricane     Australia                        2324.19           19.69                520461.86                        5.72\n",
            "        Flood     Australia                        2298.54           18.58                490866.71                        5.69\n",
            "   Earthquake          Asia                        2260.54           19.76                536327.16                        5.98\n",
            "     Wildfire          Asia                        2240.07           20.63                434557.37                        5.20\n",
            "    Hurricane          Asia                        2235.67           20.54                529303.05                        5.36\n",
            "        Flood        Europe                        2192.91           20.06                599590.88                        6.25\n",
            "     Wildfire     Australia                        2180.78           19.37                511238.57                        5.12\n",
            "      Tornado     Australia                        2179.52           20.52                541690.28                        5.48\n",
            "      Tornado        Europe                        2179.31           19.23                564561.29                        5.47\n",
            "        Flood        Africa                        2150.61           18.86                498477.76                        5.71\n"
          ]
        }
      ]
    },
    {
      "cell_type": "code",
      "source": [
        "# Optionally, save the results to a CSV file\n",
        "grouped_df.to_csv('grouped_disaster_averages.csv', index=False)\n",
        "print(\"\\nResults saved to 'grouped_disaster_averages.csv'\")"
      ],
      "metadata": {
        "colab": {
          "base_uri": "https://localhost:8080/"
        },
        "id": "H97ytjsNWrmW",
        "outputId": "0d5c42d9-637d-4e3b-de60-035c02804837"
      },
      "execution_count": 14,
      "outputs": [
        {
          "output_type": "stream",
          "name": "stdout",
          "text": [
            "\n",
            "Results saved to 'grouped_disaster_averages.csv'\n"
          ]
        }
      ]
    },
    {
      "cell_type": "code",
      "source": [
        "# Set style for better visuals using seaborn's set_theme\n",
        "import seaborn as sns\n",
        "import matplotlib.pyplot as plt\n",
        "\n",
        "sns.set_theme(style=\"darkgrid\")  # or other Seaborn styles like 'whitegrid', 'dark', 'white', 'ticks'\n",
        "# Proceed with plotting using Matplotlib (plt)"
      ],
      "metadata": {
        "id": "IAzowusTXEMc"
      },
      "execution_count": 15,
      "outputs": []
    },
    {
      "cell_type": "markdown",
      "source": [
        "Data Visualisation"
      ],
      "metadata": {
        "id": "b9pdS4wBYc8p"
      }
    },
    {
      "cell_type": "code",
      "source": [
        "# 1. Plot Distribution of Disasters by Year (Histogram)\n",
        "plt.figure(figsize=(10, 6))\n",
        "plt.hist(df['Year'], bins=range(int(df['Year'].min()), int(df['Year'].max()) + 2), edgecolor='black')\n",
        "plt.title('Distribution of Disasters by Year', fontsize=14)\n",
        "plt.xlabel('Year', fontsize=12)\n",
        "plt.ylabel('Number of Disasters', fontsize=12)\n",
        "plt.grid(True, alpha=0.3)\n",
        "plt.tight_layout()\n",
        "\n"
      ],
      "metadata": {
        "colab": {
          "base_uri": "https://localhost:8080/",
          "height": 575
        },
        "id": "zg8Z_kcdY2US",
        "outputId": "e7faeaac-2004-43ec-90b8-04c997db2e02"
      },
      "execution_count": 16,
      "outputs": [
        {
          "output_type": "display_data",
          "data": {
            "text/plain": [
              "<Figure size 1000x600 with 1 Axes>"
            ],
            "image/png": "[encoded data removed]"
          },
          "metadata": {}
        }
      ]
    },
    {
      "cell_type": "code",
      "source": [
        "# 2. Plot Frequency of Each Disaster Type (Bar Plot)\n",
        "plt.figure(figsize=(10, 6))\n",
        "disaster_counts = df['Disaster_Type'].value_counts()\n",
        "sns.barplot(x=disaster_counts.index, y=disaster_counts.values)\n",
        "plt.title('Frequency of Each Disaster Type', fontsize=14)\n",
        "plt.xlabel('Disaster Type', fontsize=12)\n",
        "plt.ylabel('Count', fontsize=12)\n",
        "plt.xticks(rotation=45)\n",
        "plt.grid(True, alpha=0.3)\n",
        "plt.tight_layout()\n"
      ],
      "metadata": {
        "colab": {
          "base_uri": "https://localhost:8080/",
          "height": 575
        },
        "id": "F1lgImZbZVAW",
        "outputId": "a0b6376f-6c0f-496d-81b0-2619f01f70ab"
      },
      "execution_count": 17,
      "outputs": [
        {
          "output_type": "display_data",
          "data": {
            "text/plain": [
              "<Figure size 1000x600 with 1 Axes>"
            ],
            "image/png": "[encoded data removed]"
          },
          "metadata": {}
        }
      ]
    },
    {
      "cell_type": "code",
      "source": [
        "# 3. Plot Economic Loss vs Disaster Type (Bar Chart)\n",
        "plt.figure(figsize=(10, 6))\n",
        "economic_loss_by_type = df.groupby('Disaster_Type')['Economic_Loss_USD_Million'].mean().sort_values(ascending=False)\n",
        "sns.barplot(x=economic_loss_by_type.index, y=economic_loss_by_type.values)\n",
        "plt.title('Average Economic Loss by Disaster Type', fontsize=14)\n",
        "plt.xlabel('Disaster Type', fontsize=12)\n",
        "plt.ylabel('Average Economic Loss (USD Million)', fontsize=12)\n",
        "plt.xticks(rotation=45)\n",
        "plt.grid(True, alpha=0.3)\n",
        "plt.tight_layout()\n"
      ],
      "metadata": {
        "colab": {
          "base_uri": "https://localhost:8080/",
          "height": 630
        },
        "id": "MEztsYnzZ3iq",
        "outputId": "49c6b8af-457d-439a-afa4-c771f10f6641"
      },
      "execution_count": 18,
      "outputs": [
        {
          "output_type": "stream",
          "name": "stderr",
          "text": [
            "<ipython-input-18-8010f5a2f535>:3: FutureWarning: The default of observed=False is deprecated and will be changed to True in a future version of pandas. Pass observed=False to retain current behavior or observed=True to adopt the future default and silence this warning.\n",
            "  economic_loss_by_type = df.groupby('Disaster_Type')['Economic_Loss_USD_Million'].mean().sort_values(ascending=False)\n"
          ]
        },
        {
          "output_type": "display_data",
          "data": {
            "text/plain": [
              "<Figure size 1000x600 with 1 Axes>"
            ],
            "image/png": "[encoded data removed]"
          },
          "metadata": {}
        }
      ]
    },
    {
      "cell_type": "code",
      "source": [
        "# 4. Plot Fatalities vs Region (Bar Plot)\n",
        "plt.figure(figsize=(10, 6))\n",
        "fatalities_by_region = df.groupby('Region')['Fatalities'].mean().sort_values(ascending=False)\n",
        "sns.barplot(x=fatalities_by_region.index, y=fatalities_by_region.values)\n",
        "plt.title('Average Fatalities by Region', fontsize=14)\n",
        "plt.xlabel('Region', fontsize=12)\n",
        "plt.ylabel('Average Fatalities', fontsize=12)\n",
        "plt.xticks(rotation=45)\n",
        "plt.grid(True, alpha=0.3)\n",
        "plt.tight_layout()\n",
        "\n"
      ],
      "metadata": {
        "colab": {
          "base_uri": "https://localhost:8080/",
          "height": 630
        },
        "id": "u5TtzMiJa2s8",
        "outputId": "22509d6d-619d-406d-9fe5-f80a3e44a789"
      },
      "execution_count": 19,
      "outputs": [
        {
          "output_type": "stream",
          "name": "stderr",
          "text": [
            "<ipython-input-19-313acf5d8d91>:3: FutureWarning: The default of observed=False is deprecated and will be changed to True in a future version of pandas. Pass observed=False to retain current behavior or observed=True to adopt the future default and silence this warning.\n",
            "  fatalities_by_region = df.groupby('Region')['Fatalities'].mean().sort_values(ascending=False)\n"
          ]
        },
        {
          "output_type": "display_data",
          "data": {
            "text/plain": [
              "<Figure size 1000x600 with 1 Axes>"
            ],
            "image/png": "[encoded data removed]"
          },
          "metadata": {}
        }
      ]
    },
    {
      "cell_type": "code",
      "source": [
        "# 5. Correlation Matrix Heatmap for Numerical Features\n",
        "plt.figure(figsize=(10, 8))\n",
        "numeric_cols = ['Economic_Loss_USD_Million', 'Fatalities', 'Affected_Population', 'Magnitude_or_Intensity']\n",
        "corr_matrix = df[numeric_cols].corr()\n",
        "sns.heatmap(corr_matrix, annot=True, cmap='coolwarm', vmin=-1, vmax=1, center=0, fmt='.2f')\n",
        "plt.title('Correlation Matrix of Numerical Features', fontsize=14)\n",
        "plt.tight_layout()\n"
      ],
      "metadata": {
        "colab": {
          "base_uri": "https://localhost:8080/",
          "height": 787
        },
        "id": "jVkrd5fbbIhS",
        "outputId": "75b7de14-c2ef-437a-fdce-a440c958b089"
      },
      "execution_count": 20,
      "outputs": [
        {
          "output_type": "display_data",
          "data": {
            "text/plain": [
              "<Figure size 1000x800 with 2 Axes>"
            ],
            "image/png": "[encoded data removed]"
          },
          "metadata": {}
        }
      ]
    },
    {
      "cell_type": "markdown",
      "source": [
        "Feature Engineering"
      ],
      "metadata": {
        "id": "5pgPfLl5cG3C"
      }
    },
    {
      "cell_type": "code",
      "source": [
        "from sklearn.preprocessing import LabelEncoder\n",
        "\n",
        "# Label Encoding for Severity_Level\n",
        "le = LabelEncoder()\n",
        "df['Severity_Level'] = le.fit_transform(df['Severity_Level'])\n",
        "\n",
        "# One-Hot Encoding for Disaster_Type and Region\n",
        "df = pd.get_dummies(df, columns=['Disaster_Type', 'Region'], drop_first=True)"
      ],
      "metadata": {
        "id": "Td8kdbc7cSG2"
      },
      "execution_count": 21,
      "outputs": []
    },
    {
      "cell_type": "markdown",
      "source": [
        "Feature Importance for Regression"
      ],
      "metadata": {
        "id": "63bAq5iTpoXE"
      }
    },
    {
      "cell_type": "code",
      "source": [
        "from sklearn.ensemble import RandomForestRegressor\n",
        "\n",
        "# Define X and y\n",
        "X_reg = df.drop(columns=['Economic_Loss_USD_Million'])\n",
        "y_reg = df['Economic_Loss_USD_Million']\n",
        "\n",
        "# Train the model\n",
        "reg_model = RandomForestRegressor(n_estimators=100, random_state=42)\n",
        "reg_model.fit(X_reg, y_reg)\n",
        "\n",
        "# Get feature importances\n",
        "reg_importances = pd.Series(reg_model.feature_importances_, index=X_reg.columns).sort_values(ascending=False)\n",
        "\n",
        "# Plot\n",
        "plt.figure(figsize=(10, 6))\n",
        "sns.barplot(x=reg_importances[:20], y=reg_importances.index[:20], palette='viridis')\n",
        "plt.title('Top 20 Feature Importances - Regression Task')\n",
        "plt.xlabel('Importance Score')\n",
        "plt.ylabel('Features')\n",
        "plt.tight_layout()\n",
        "plt.show()\n"
      ],
      "metadata": {
        "id": "InCbXmEIcLl2",
        "colab": {
          "base_uri": "https://localhost:8080/",
          "height": 682
        },
        "outputId": "faab2aef-d3df-4aee-e016-9676e41d7f17"
      },
      "execution_count": 22,
      "outputs": [
        {
          "output_type": "stream",
          "name": "stderr",
          "text": [
            "<ipython-input-22-91daf013c5de>:16: FutureWarning: \n",
            "\n",
            "Passing `palette` without assigning `hue` is deprecated and will be removed in v0.14.0. Assign the `y` variable to `hue` and set `legend=False` for the same effect.\n",
            "\n",
            "  sns.barplot(x=reg_importances[:20], y=reg_importances.index[:20], palette='viridis')\n"
          ]
        },
        {
          "output_type": "display_data",
          "data": {
            "text/plain": [
              "<Figure size 1000x600 with 1 Axes>"
            ],
            "image/png": "[encoded data removed]"
          },
          "metadata": {}
        }
      ]
    },
    {
      "cell_type": "markdown",
      "source": [
        "Feature Importance for Regression"
      ],
      "metadata": {
        "id": "sO_Sij5KrTQ4"
      }
    },
    {
      "cell_type": "code",
      "source": [
        "from sklearn.ensemble import RandomForestClassifier\n",
        "\n",
        "# Define X and y\n",
        "X_clf = df.drop(columns=['Severity_Level'])\n",
        "y_clf = df['Severity_Level']\n",
        "\n",
        "# Train the model\n",
        "clf_model = RandomForestClassifier(n_estimators=100, random_state=42)\n",
        "clf_model.fit(X_clf, y_clf)\n",
        "\n",
        "# Get feature importances\n",
        "clf_importances = pd.Series(clf_model.feature_importances_, index=X_clf.columns).sort_values(ascending=False)\n",
        "\n",
        "# Plot\n",
        "plt.figure(figsize=(10, 6))\n",
        "sns.barplot(x=clf_importances[:20], y=clf_importances.index[:20], palette='magma')\n",
        "plt.title('Top 20 Feature Importances - Classification Task')\n",
        "plt.xlabel('Importance Score')\n",
        "plt.ylabel('Features')\n",
        "plt.tight_layout()\n",
        "plt.show()"
      ],
      "metadata": {
        "colab": {
          "base_uri": "https://localhost:8080/",
          "height": 682
        },
        "id": "qu2W3EaarXvI",
        "outputId": "d4c209a9-10a4-461d-9f71-fe52f57189cd"
      },
      "execution_count": 23,
      "outputs": [
        {
          "output_type": "stream",
          "name": "stderr",
          "text": [
            "<ipython-input-23-d4239805b946>:16: FutureWarning: \n",
            "\n",
            "Passing `palette` without assigning `hue` is deprecated and will be removed in v0.14.0. Assign the `y` variable to `hue` and set `legend=False` for the same effect.\n",
            "\n",
            "  sns.barplot(x=clf_importances[:20], y=clf_importances.index[:20], palette='magma')\n"
          ]
        },
        {
          "output_type": "display_data",
          "data": {
            "text/plain": [
              "<Figure size 1000x600 with 1 Axes>"
            ],
            "image/png": "[encoded data removed]"
          },
          "metadata": {}
        }
      ]
    },
    {
      "cell_type": "markdown",
      "source": [
        "Machine Learning Modeling"
      ],
      "metadata": {
        "id": "WtEPospGxaDL"
      }
    },
    {
      "cell_type": "code",
      "source": [
        "from sklearn.model_selection import train_test_split, GridSearchCV\n",
        "from sklearn.preprocessing import StandardScaler, OneHotEncoder, LabelEncoder  # ***Corrected Line***\n",
        "from sklearn.compose import ColumnTransformer\n",
        "from sklearn.pipeline import Pipeline\n",
        "from sklearn.linear_model import LinearRegression\n",
        "from sklearn.ensemble import RandomForestRegressor, RandomForestClassifier\n",
        "from sklearn.metrics import mean_absolute_error, mean_squared_error, r2_score\n",
        "from sklearn.metrics import accuracy_score, precision_score, recall_score, f1_score, confusion_matrix\n",
        "from xgboost import XGBRegressor, XGBClassifier\n",
        "import warnings\n",
        "warnings.filterwarnings('ignore')"
      ],
      "metadata": {
        "id": "D8z7fY4exhyq"
      },
      "execution_count": 24,
      "outputs": []
    },
    {
      "cell_type": "code",
      "source": [
        "# Drop Disaster_ID\n",
        "df = df.drop(columns=['Disaster_ID'])"
      ],
      "metadata": {
        "id": "j0yAiHGwxjYf"
      },
      "execution_count": 25,
      "outputs": []
    },
    {
      "cell_type": "code",
      "source": [
        "#---Regression Task---\n",
        "# Define columns (same as original)\n",
        "numerical_cols = ['Year', 'Magnitude_or_Intensity', 'Fatalities', 'Affected_Population']\n",
        "categorical_cols = ['Disaster_Type', 'Region']\n",
        "target_col = 'Economic_Loss_USD_Million'\n",
        "\n",
        "def prepare_regression_data(data, test_size=0.2, random_state=42, scale_numerical=True):\n",
        "\n",
        "    # Separate features and target\n",
        "    X = data[numerical_cols + categorical_cols + ['Severity_Level']]\n",
        "    y = data[target_col]\n",
        "\n",
        "    # Define preprocessing steps\n",
        "    numerical_transformer = StandardScaler() if scale_numerical else 'passthrough'\n",
        "\n",
        "    preprocessor = ColumnTransformer(\n",
        "        transformers=[\n",
        "            ('num', numerical_transformer, numerical_cols),\n",
        "            ('cat', OneHotEncoder(drop='first', sparse_output=False), categorical_cols),\n",
        "            ('severity', OneHotEncoder(drop='first', sparse_output=False), ['Severity_Level'])\n",
        "        ],\n",
        "        remainder='drop'  # Explicitly drop any columns not specified\n",
        "    )\n",
        "\n",
        "    # Split data\n",
        "    X_train, X_test, y_train, y_test = train_test_split(\n",
        "        X, y, test_size=test_size, random_state=random_state\n",
        "    )\n",
        "\n",
        "    # Process data\n",
        "    X_train_processed = preprocessor.fit_transform(X_train)\n",
        "    X_test_processed = preprocessor.transform(X_test)\n",
        "\n",
        "    return X_train_processed, X_test_processed, y_train, y_test, preprocessor"
      ],
      "metadata": {
        "id": "OcWKq-Ejxrpt"
      },
      "execution_count": 26,
      "outputs": []
    },
    {
      "cell_type": "code",
      "source": [
        "# --- Classification Task ---\n",
        "numerical_cols_classifier = numerical_cols + ['Economic_Loss_USD_Million']\n",
        "def prepare_classification_data(data, test_size=0.2, random_state=42):\n",
        "    X = data[numerical_cols_classifier + categorical_cols]\n",
        "    y = data['Severity_Level']\n",
        "\n",
        "    # Encode the target variable (Severity_Level)\n",
        "    label_encoder = LabelEncoder()\n",
        "    y_encoded = label_encoder.fit_transform(y)\n",
        "\n",
        "    preprocessor = ColumnTransformer(\n",
        "        transformers=[\n",
        "            ('num', StandardScaler(), numerical_cols_classifier),\n",
        "            ('cat', OneHotEncoder(drop='first', sparse_output=False), categorical_cols)\n",
        "        ])\n",
        "\n",
        "    X_train, X_test, y_train, y_test = train_test_split(\n",
        "        X, y_encoded, test_size=test_size, random_state=random_state\n",
        "    )\n",
        "    X_train_processed = preprocessor.fit_transform(X_train)\n",
        "    X_test_processed = preprocessor.transform(X_test)\n",
        "\n",
        "    return X_train_processed, X_test_processed, y_train, y_test, preprocessor, label_encoder\n"
      ],
      "metadata": {
        "id": "qBYFmAcWzTJr"
      },
      "execution_count": 27,
      "outputs": []
    },
    {
      "cell_type": "code",
      "source": [
        "# --- Model Evaluation Functions ---\n",
        "def evaluate_regression(y_true, y_pred):\n",
        "    mae = mean_absolute_error(y_true, y_pred)\n",
        "    rmse = np.sqrt(mean_squared_error(y_true, y_pred))\n",
        "    r2 = r2_score(y_true, y_pred)\n",
        "    return {'MAE': mae, 'RMSE': rmse, 'R2': r2}\n",
        "\n",
        "def evaluate_classification(y_true, y_pred):\n",
        "    accuracy = accuracy_score(y_true, y_pred)\n",
        "    precision = precision_score(y_true, y_pred, average='weighted', zero_division=0)\n",
        "    recall = recall_score(y_true, y_pred, average='weighted', zero_division=0)\n",
        "    f1 = f1_score(y_true, y_pred, average='weighted', zero_division=0)\n",
        "    cm = confusion_matrix(y_true, y_pred)\n",
        "    return {\n",
        "        'Accuracy': accuracy,\n",
        "        'Precision': precision,\n",
        "        'Recall': recall,\n",
        "        'F1': f1,\n",
        "        'Confusion Matrix': cm\n",
        "    }\n"
      ],
      "metadata": {
        "id": "pTTGTtSL0Gxp"
      },
      "execution_count": 28,
      "outputs": []
    },
    {
      "cell_type": "code",
      "source": [
        "# --- Regression Modeling ---\n",
        "def train_and_evaluate_regression(X_train, X_test, y_train, y_test):\n",
        "    results = {}\n",
        "\n",
        "    # Linear Regression\n",
        "    lr = LinearRegression()\n",
        "    lr.fit(X_train, y_train)\n",
        "    y_pred_lr = lr.predict(X_test)\n",
        "    results['Linear Regression'] = evaluate_regression(y_test, y_pred_lr)\n",
        "\n",
        "    # Random Forest Regressor\n",
        "    rf = RandomForestRegressor(random_state=42)\n",
        "    rf.fit(X_train, y_train)\n",
        "    y_pred_rf = rf.predict(X_test)\n",
        "    results['Random Forest Regressor'] = evaluate_regression(y_test, y_pred_rf)\n",
        "\n",
        "    # XGBoost Regressor\n",
        "    xgb = XGBRegressor(random_state=42)\n",
        "    xgb.fit(X_train, y_train)\n",
        "    y_pred_xgb = xgb.predict(X_test)\n",
        "    results['XGBoost Regressor'] = evaluate_regression(y_test, y_pred_xgb)\n",
        "\n",
        "    # Hyperparameter Tuning for Random Forest\n",
        "    param_grid_rf = {\n",
        "        'n_estimators': [100, 200],\n",
        "        'max_depth': [10, 20, None],\n",
        "        'min_samples_split': [2, 5]\n",
        "    }\n",
        "    grid_rf = GridSearchCV(RandomForestRegressor(random_state=42), param_grid_rf, cv=3, scoring='neg_mean_squared_error', n_jobs=-1)\n",
        "    grid_rf.fit(X_train, y_train)\n",
        "    y_pred_rf_tuned = grid_rf.best_estimator_.predict(X_test)\n",
        "    results['Random Forest Regressor (Tuned)'] = evaluate_regression(y_test, y_pred_rf_tuned)\n",
        "    results['Random Forest Best Params'] = grid_rf.best_params_\n",
        "\n",
        "    # Hyperparameter Tuning for XGBoost\n",
        "    param_grid_xgb = {\n",
        "        'n_estimators': [100, 200],\n",
        "        'max_depth': [3, 6],\n",
        "        'learning_rate': [0.01, 0.1]\n",
        "    }\n",
        "    grid_xgb = GridSearchCV(XGBRegressor(random_state=42), param_grid_xgb, cv=3, scoring='neg_mean_squared_error', n_jobs=-1)\n",
        "    grid_xgb.fit(X_train, y_train)\n",
        "    y_pred_xgb_tuned = grid_xgb.best_estimator_.predict(X_test)\n",
        "    results['XGBoost Regressor (Tuned)'] = evaluate_regression(y_test, y_pred_xgb_tuned)\n",
        "    results['XGBoost Best Params'] = grid_xgb.best_params_\n",
        "\n",
        "    return results"
      ],
      "metadata": {
        "id": "MDprJ_ik0Zt3"
      },
      "execution_count": 29,
      "outputs": []
    },
    {
      "cell_type": "code",
      "source": [
        "# --- Classification Modeling ---\n",
        "def train_and_evaluate_classification(X_train, X_test, y_train, y_test):\n",
        "    results = {}\n",
        "\n",
        "    # Random Forest Classifier\n",
        "    rf = RandomForestClassifier(random_state=42)\n",
        "    rf.fit(X_train, y_train)\n",
        "    y_pred_rf = rf.predict(X_test)\n",
        "    results['Random Forest Classifier'] = evaluate_classification(y_test, y_pred_rf)\n",
        "\n",
        "    # XGBoost Classifier\n",
        "    xgb = XGBClassifier(random_state=42, eval_metric='mlogloss')\n",
        "    xgb.fit(X_train, y_train)\n",
        "    y_pred_xgb = xgb.predict(X_test)\n",
        "    results['XGBoost Classifier'] = evaluate_classification(y_test, y_pred_xgb)\n",
        "\n",
        "    # Hyperparameter Tuning for Random Forest\n",
        "    param_grid_rf = {\n",
        "        'n_estimators': [100, 200],\n",
        "        'max_depth': [10, 20, None],\n",
        "        'min_samples_split': [2, 5]\n",
        "    }\n",
        "    grid_rf = GridSearchCV(RandomForestClassifier(random_state=42), param_grid_rf, cv=3, scoring='accuracy', n_jobs=-1)\n",
        "    grid_rf.fit(X_train, y_train)\n",
        "    y_pred_rf_tuned = grid_rf.best_estimator_.predict(X_test)\n",
        "    results['Random Forest Classifier (Tuned)'] = evaluate_classification(y_test, y_pred_rf_tuned)\n",
        "    results['Random Forest Best Params'] = grid_rf.best_params_\n",
        "\n",
        "    # Hyperparameter Tuning for XGBoost\n",
        "    param_grid_xgb = {\n",
        "        'n_estimators': [100, 200],\n",
        "        'max_depth': [3, 6],\n",
        "        'learning_rate': [0.01, 0.1]\n",
        "    }\n",
        "    grid_xgb = GridSearchCV(XGBClassifier(random_state=42, eval_metric='mlogloss'),\n",
        "                           param_grid_xgb, cv=3, scoring='accuracy', n_jobs=-1)\n",
        "    grid_xgb.fit(X_train, y_train)\n",
        "    y_pred_xgb_tuned = grid_xgb.best_estimator_.predict(X_test)\n",
        "    results['XGBoost Classifier (Tuned)'] = evaluate_classification(y_test, y_pred_xgb_tuned)\n",
        "    results['XGBoost Best Params'] = grid_xgb.best_params_\n",
        "\n",
        "    return results"
      ],
      "metadata": {
        "id": "qyRuOdceGYZc"
      },
      "execution_count": 30,
      "outputs": []
    },
    {
      "cell_type": "code",
      "source": [
        "# --- Main Execution ---\n",
        "def main():\n",
        "    # Load dataset\n",
        "    df = pd.read_csv('disaster_dataset.csv')\n",
        "\n",
        "    # Handle missing values\n",
        "    df = df.dropna()\n",
        "\n",
        "    # Regression Task\n",
        "    print(\"=== Regression Task: Predicting Economic_Loss_USD_Million ===\")\n",
        "    X_train_reg, X_test_reg, y_train_reg, y_test_reg, _ = prepare_regression_data(df)\n",
        "    reg_results = train_and_evaluate_regression(X_train_reg, X_test_reg, y_train_reg, y_test_reg)\n",
        "    for model, metrics in reg_results.items():\n",
        "        if 'Params' in model:\n",
        "            print(f\"\\n{model}: {metrics}\")\n",
        "        else:\n",
        "            print(f\"\\n{model}:\")\n",
        "            for metric, value in metrics.items():\n",
        "                print(f\"  {metric}: {value:.4f}\")\n",
        "\n",
        "    # Classification Task\n",
        "    print(\"\\n=== Classification Task: Predicting Severity_Level ===\")\n",
        "    X_train_clf, X_test_clf, y_train_clf, y_test_clf, _, label_encoder = prepare_classification_data(df)\n",
        "    print(\"Severity_Level Classes:\", label_encoder.classes_)\n",
        "    clf_results = train_and_evaluate_classification(X_train_clf, X_test_clf, y_train_clf, y_test_clf)\n",
        "    for model, metrics in clf_results.items():\n",
        "        if 'Params' in model:\n",
        "            print(f\"\\n{model}: {metrics}\")\n",
        "        else:\n",
        "            print(f\"\\n{model}:\")\n",
        "            for metric, value in metrics.items():\n",
        "                if metric == 'Confusion Matrix':\n",
        "                    print(f\"  {metric}:\\n{value}\")\n",
        "                else:\n",
        "                    print(f\"  {metric}: {value:.4f}\")\n",
        "\n",
        "if __name__ == \"__main__\":\n",
        "    main()"
      ],
      "metadata": {
        "colab": {
          "base_uri": "https://localhost:8080/"
        },
        "id": "ic186xBCGfz6",
        "outputId": "68c0ad3d-18f0-4339-9cae-4d002645982f"
      },
      "execution_count": 31,
      "outputs": [
        {
          "output_type": "stream",
          "name": "stdout",
          "text": [
            "=== Regression Task: Predicting Economic_Loss_USD_Million ===\n",
            "\n",
            "Linear Regression:\n",
            "  MAE: 1191.0211\n",
            "  RMSE: 1399.7520\n",
            "  R2: -0.0015\n",
            "\n",
            "Random Forest Regressor:\n",
            "  MAE: 1245.4304\n",
            "  RMSE: 1473.7847\n",
            "  R2: -0.1102\n",
            "\n",
            "XGBoost Regressor:\n",
            "  MAE: 1384.0164\n",
            "  RMSE: 1667.5052\n",
            "  R2: -0.4213\n",
            "\n",
            "Random Forest Regressor (Tuned):\n",
            "  MAE: 1217.2108\n",
            "  RMSE: 1439.1607\n",
            "  R2: -0.0587\n",
            "\n",
            "Random Forest Best Params: {'max_depth': 10, 'min_samples_split': 5, 'n_estimators': 200}\n",
            "\n",
            "XGBoost Regressor (Tuned):\n",
            "  MAE: 1202.2897\n",
            "  RMSE: 1403.7497\n",
            "  R2: -0.0072\n",
            "\n",
            "XGBoost Best Params: {'learning_rate': 0.01, 'max_depth': 3, 'n_estimators': 100}\n",
            "\n",
            "=== Classification Task: Predicting Severity_Level ===\n",
            "Severity_Level Classes: ['High' 'Low' 'Moderate' 'Severe']\n",
            "\n",
            "Random Forest Classifier:\n",
            "  Accuracy: 0.2700\n",
            "  Precision: 0.2663\n",
            "  Recall: 0.2700\n",
            "  F1: 0.2672\n",
            "  Confusion Matrix:\n",
            "[[18 15 13 10]\n",
            " [15 16  4 17]\n",
            " [14 15  7  9]\n",
            " [10 13 11 13]]\n",
            "\n",
            "XGBoost Classifier:\n",
            "  Accuracy: 0.2100\n",
            "  Precision: 0.2098\n",
            "  Recall: 0.2100\n",
            "  F1: 0.2097\n",
            "  Confusion Matrix:\n",
            "[[10 14 15 17]\n",
            " [19 13  9 11]\n",
            " [10 14  8 13]\n",
            " [13 10 13 11]]\n",
            "\n",
            "Random Forest Classifier (Tuned):\n",
            "  Accuracy: 0.2500\n",
            "  Precision: 0.2486\n",
            "  Recall: 0.2500\n",
            "  F1: 0.2483\n",
            "  Confusion Matrix:\n",
            "[[16 14 12 14]\n",
            " [19 13  4 16]\n",
            " [15 14  8  8]\n",
            " [12 11 11 13]]\n",
            "\n",
            "Random Forest Best Params: {'max_depth': 20, 'min_samples_split': 5, 'n_estimators': 100}\n",
            "\n",
            "XGBoost Classifier (Tuned):\n",
            "  Accuracy: 0.2850\n",
            "  Precision: 0.3041\n",
            "  Recall: 0.2850\n",
            "  F1: 0.2821\n",
            "  Confusion Matrix:\n",
            "[[13 18  4 21]\n",
            " [ 7 24  5 16]\n",
            " [ 7 12  9 17]\n",
            " [12 18  6 11]]\n",
            "\n",
            "XGBoost Best Params: {'learning_rate': 0.01, 'max_depth': 3, 'n_estimators': 100}\n"
          ]
        }
      ]
    },
    {
      "cell_type": "code",
      "source": [
        "!pip install streamlit"
      ],
      "metadata": {
        "colab": {
          "base_uri": "https://localhost:8080/"
        },
        "id": "CslFOb87MutU",
        "outputId": "5132886d-5c1c-44c6-b581-877c5640e1d1"
      },
      "execution_count": 62,
      "outputs": [
        {
          "output_type": "stream",
          "name": "stdout",
          "text": [
            "Requirement already satisfied: streamlit in /usr/local/lib/python3.11/dist-packages (1.44.1)\n",
            "Requirement already satisfied: altair<6,>=4.0 in /usr/local/lib/python3.11/dist-packages (from streamlit) (5.5.0)\n",
            "Requirement already satisfied: blinker<2,>=1.0.0 in /usr/local/lib/python3.11/dist-packages (from streamlit) (1.9.0)\n",
            "Requirement already satisfied: cachetools<6,>=4.0 in /usr/local/lib/python3.11/dist-packages (from streamlit) (5.5.2)\n",
            "Requirement already satisfied: click<9,>=7.0 in /usr/local/lib/python3.11/dist-packages (from streamlit) (8.1.8)\n",
            "Requirement already satisfied: numpy<3,>=1.23 in /usr/local/lib/python3.11/dist-packages (from streamlit) (2.0.2)\n",
            "Requirement already satisfied: packaging<25,>=20 in /usr/local/lib/python3.11/dist-packages (from streamlit) (24.2)\n",
            "Requirement already satisfied: pandas<3,>=1.4.0 in /usr/local/lib/python3.11/dist-packages (from streamlit) (2.2.2)\n",
            "Requirement already satisfied: pillow<12,>=7.1.0 in /usr/local/lib/python3.11/dist-packages (from streamlit) (11.2.1)\n",
            "Requirement already satisfied: protobuf<6,>=3.20 in /usr/local/lib/python3.11/dist-packages (from streamlit) (5.29.4)\n",
            "Requirement already satisfied: pyarrow>=7.0 in /usr/local/lib/python3.11/dist-packages (from streamlit) (18.1.0)\n",
            "Requirement already satisfied: requests<3,>=2.27 in /usr/local/lib/python3.11/dist-packages (from streamlit) (2.32.3)\n",
            "Requirement already satisfied: tenacity<10,>=8.1.0 in /usr/local/lib/python3.11/dist-packages (from streamlit) (9.1.2)\n",
            "Requirement already satisfied: toml<2,>=0.10.1 in /usr/local/lib/python3.11/dist-packages (from streamlit) (0.10.2)\n",
            "Requirement already satisfied: typing-extensions<5,>=4.4.0 in /usr/local/lib/python3.11/dist-packages (from streamlit) (4.13.2)\n",
            "Requirement already satisfied: watchdog<7,>=2.1.5 in /usr/local/lib/python3.11/dist-packages (from streamlit) (6.0.0)\n",
            "Requirement already satisfied: gitpython!=3.1.19,<4,>=3.0.7 in /usr/local/lib/python3.11/dist-packages (from streamlit) (3.1.44)\n",
            "Requirement already satisfied: pydeck<1,>=0.8.0b4 in /usr/local/lib/python3.11/dist-packages (from streamlit) (0.9.1)\n",
            "Requirement already satisfied: tornado<7,>=6.0.3 in /usr/local/lib/python3.11/dist-packages (from streamlit) (6.4.2)\n",
            "Requirement already satisfied: jinja2 in /usr/local/lib/python3.11/dist-packages (from altair<6,>=4.0->streamlit) (3.1.6)\n",
            "Requirement already satisfied: jsonschema>=3.0 in /usr/local/lib/python3.11/dist-packages (from altair<6,>=4.0->streamlit) (4.23.0)\n",
            "Requirement already satisfied: narwhals>=1.14.2 in /usr/local/lib/python3.11/dist-packages (from altair<6,>=4.0->streamlit) (1.36.0)\n",
            "Requirement already satisfied: gitdb<5,>=4.0.1 in /usr/local/lib/python3.11/dist-packages (from gitpython!=3.1.19,<4,>=3.0.7->streamlit) (4.0.12)\n",
            "Requirement already satisfied: python-dateutil>=2.8.2 in /usr/local/lib/python3.11/dist-packages (from pandas<3,>=1.4.0->streamlit) (2.9.0.post0)\n",
            "Requirement already satisfied: pytz>=2020.1 in /usr/local/lib/python3.11/dist-packages (from pandas<3,>=1.4.0->streamlit) (2025.2)\n",
            "Requirement already satisfied: tzdata>=2022.7 in /usr/local/lib/python3.11/dist-packages (from pandas<3,>=1.4.0->streamlit) (2025.2)\n",
            "Requirement already satisfied: charset-normalizer<4,>=2 in /usr/local/lib/python3.11/dist-packages (from requests<3,>=2.27->streamlit) (3.4.1)\n",
            "Requirement already satisfied: idna<4,>=2.5 in /usr/local/lib/python3.11/dist-packages (from requests<3,>=2.27->streamlit) (3.10)\n",
            "Requirement already satisfied: urllib3<3,>=1.21.1 in /usr/local/lib/python3.11/dist-packages (from requests<3,>=2.27->streamlit) (2.4.0)\n",
            "Requirement already satisfied: certifi>=2017.4.17 in /usr/local/lib/python3.11/dist-packages (from requests<3,>=2.27->streamlit) (2025.1.31)\n",
            "Requirement already satisfied: smmap<6,>=3.0.1 in /usr/local/lib/python3.11/dist-packages (from gitdb<5,>=4.0.1->gitpython!=3.1.19,<4,>=3.0.7->streamlit) (5.0.2)\n",
            "Requirement already satisfied: MarkupSafe>=2.0 in /usr/local/lib/python3.11/dist-packages (from jinja2->altair<6,>=4.0->streamlit) (3.0.2)\n",
            "Requirement already satisfied: attrs>=22.2.0 in /usr/local/lib/python3.11/dist-packages (from jsonschema>=3.0->altair<6,>=4.0->streamlit) (25.3.0)\n",
            "Requirement already satisfied: jsonschema-specifications>=2023.03.6 in /usr/local/lib/python3.11/dist-packages (from jsonschema>=3.0->altair<6,>=4.0->streamlit) (2025.4.1)\n",
            "Requirement already satisfied: referencing>=0.28.4 in /usr/local/lib/python3.11/dist-packages (from jsonschema>=3.0->altair<6,>=4.0->streamlit) (0.36.2)\n",
            "Requirement already satisfied: rpds-py>=0.7.1 in /usr/local/lib/python3.11/dist-packages (from jsonschema>=3.0->altair<6,>=4.0->streamlit) (0.24.0)\n",
            "Requirement already satisfied: six>=1.5 in /usr/local/lib/python3.11/dist-packages (from python-dateutil>=2.8.2->pandas<3,>=1.4.0->streamlit) (1.17.0)\n"
          ]
        }
      ]
    },
    {
      "cell_type": "code",
      "source": [
        "!pip install pyngrok"
      ],
      "metadata": {
        "colab": {
          "base_uri": "https://localhost:8080/"
        },
        "id": "0BJWNl59OTVR",
        "outputId": "ff4668bf-f23d-4f2a-c378-4487502f75a1"
      },
      "execution_count": 63,
      "outputs": [
        {
          "output_type": "stream",
          "name": "stdout",
          "text": [
            "Requirement already satisfied: pyngrok in /usr/local/lib/python3.11/dist-packages (7.2.5)\n",
            "Requirement already satisfied: PyYAML>=5.1 in /usr/local/lib/python3.11/dist-packages (from pyngrok) (6.0.2)\n"
          ]
        }
      ]
    },
    {
      "cell_type": "code",
      "source": [
        "import streamlit as st\n",
        "import pandas as pd\n",
        "import numpy as np\n",
        "from sklearn.model_selection import train_test_split\n",
        "from sklearn.preprocessing import StandardScaler, OneHotEncoder, LabelEncoder\n",
        "from sklearn.compose import ColumnTransformer\n",
        "from sklearn.ensemble import RandomForestRegressor, RandomForestClassifier\n",
        "from sklearn.metrics import mean_absolute_error, mean_squared_error, r2_score\n",
        "from sklearn.metrics import accuracy_score, precision_score, recall_score, f1_score, confusion_matrix\n",
        "import joblib\n",
        "import os\n",
        "from google.colab import drive\n",
        "from google.colab import files"
      ],
      "metadata": {
        "id": "-FR37gAnILOQ"
      },
      "execution_count": 64,
      "outputs": []
    },
    {
      "cell_type": "code",
      "source": [
        "# Mount Google Drive (only if not already mounted)\n",
        "if not os.path.exists('/content/drive'):\n",
        "    drive.mount('/content/drive')\n",
        "\n",
        "# Define paths\n",
        "drive_dataset_path = '/content/disaster_dataset.csv'\n",
        "drive_model_dir = '/content/drive/MyDrive/disaster_models/'\n",
        "if not os.path.exists(drive_model_dir):\n",
        "    os.makedirs(drive_model_dir)\n",
        "\n",
        "# --- Upload Dataset if not on Drive ---\n",
        "if not os.path.exists(drive_dataset_path):\n",
        "    print(\"Dataset not found at /content/disaster_dataset.csv. Please upload 'disaster_dataset.csv'.\")\n",
        "    uploaded = files.upload()\n",
        "    if 'disaster_dataset.csv' not in uploaded:\n",
        "        raise FileNotFoundError(\"Dataset 'disaster_dataset.csv' not uploaded. Please upload the file and try again.\")\n",
        "    # Save the uploaded dataset to /content/\n",
        "    with open(drive_dataset_path, 'wb') as f:\n",
        "        f.write(uploaded['disaster_dataset.csv'])\n",
        "\n"
      ],
      "metadata": {
        "id": "NrhEKhn1LtRp"
      },
      "execution_count": 65,
      "outputs": []
    },
    {
      "cell_type": "code",
      "source": [
        "# --- Train and Save Models ---\n",
        "def train_and_save_models():\n",
        "    try:\n",
        "        # ***Corrected Section Start***: Add detailed logging and error handling\n",
        "        # Step 1: Load dataset\n",
        "        print(f\"Step 1: Attempting to load dataset from {drive_dataset_path}...\")\n",
        "        if not os.path.exists(drive_dataset_path):\n",
        "            raise FileNotFoundError(f\"Dataset not found at {drive_dataset_path}. Please ensure the dataset is uploaded.\")\n",
        "        df = pd.read_csv(drive_dataset_path)\n",
        "        print(f\"Dataset loaded successfully. Shape: {df.shape}\")\n",
        "        if df.empty:\n",
        "            raise ValueError(\"Dataset is empty. Please provide a valid dataset.\")\n",
        "        if df.shape[0] == 0:\n",
        "            raise ValueError(\"Dataset has no rows. Please provide a valid dataset.\")\n",
        "        df = df.dropna()\n",
        "        print(f\"Dataset shape after dropping NaN values: {df.shape}\")\n",
        "        if df.shape[0] == 0:\n",
        "            raise ValueError(\"Dataset is empty after dropping NaN values. Please provide a dataset with valid data.\")\n",
        "\n",
        "        # Step 2: Verify required columns exist\n",
        "        print(\"Step 2: Checking for required columns in the dataset...\")\n",
        "        required_cols = numerical_cols + categorical_cols + [target_col, 'Severity_Level']\n",
        "        missing_cols = [col for col in required_cols if col not in df.columns]\n",
        "        if missing_cols:\n",
        "            raise ValueError(f\"Dataset missing required columns: {missing_cols}\")\n",
        "        print(\"All required columns are present in the dataset.\")\n",
        "\n",
        "        # Step 3: Verify data types and non-null values\n",
        "        print(\"Step 3: Checking data types and non-null values...\")\n",
        "        for col in numerical_cols + [target_col]:\n",
        "            if not pd.api.types.is_numeric_dtype(df[col]):\n",
        "                raise ValueError(f\"Column {col} must be numeric, but found type {df[col].dtype}\")\n",
        "            if df[col].isnull().any():\n",
        "                raise ValueError(f\"Column {col} contains null values after dropna()\")\n",
        "        for col in categorical_cols + ['Severity_Level']:\n",
        "            if not pd.api.types.is_object_dtype(df[col]) and not pd.api.types.is_categorical_dtype(df[col]):\n",
        "                raise ValueError(f\"Column {col} must be categorical or object type, but found type {df[col].dtype}\")\n",
        "            if df[col].isnull().any():\n",
        "                raise ValueError(f\"Column {col} contains null values after dropna()\")\n",
        "        print(\"Data types and non-null checks passed successfully.\")\n",
        "        print(\"Dataset dtypes:\\n\", df.dtypes)\n",
        "        print(\"First few rows of the dataset:\\n\", df.head())\n",
        "\n",
        "        # Step 4: Regression\n",
        "        print(\"Step 4: Training regression model...\")\n",
        "        X_train_reg, _, y_train_reg, _, reg_preprocessor = prepare_regression_data(df)\n",
        "        print(f\"Regression training data shape: {X_train_reg.shape}\")\n",
        "        reg_model = RandomForestRegressor(n_estimators=200, max_depth=20, min_samples_split=2, random_state=42)\n",
        "        print(\"Fitting regression model...\")\n",
        "        reg_model.fit(X_train_reg, y_train_reg)\n",
        "        print(\"Regression model trained successfully.\")\n",
        "        reg_model_path = os.path.join(drive_model_dir, 'reg_model.joblib')  # Save to Drive\n",
        "        print(f\"Saving regression model to {reg_model_path}...\")\n",
        "        joblib.dump(reg_model, reg_model_path)\n",
        "        if not os.path.exists(reg_model_path):\n",
        "            raise RuntimeError(f\"Failed to save regression model to {reg_model_path}\")\n",
        "        reg_preprocessor_path = os.path.join(drive_model_dir, 'reg_preprocessor.joblib')\n",
        "        print(f\"Saving regression preprocessor to {reg_preprocessor_path}...\")\n",
        "        joblib.dump(reg_preprocessor, reg_preprocessor_path)\n",
        "        if not os.path.exists(reg_preprocessor_path):\n",
        "            raise RuntimeError(f\"Failed to save regression preprocessor to {reg_preprocessor_path}\")\n",
        "        print(\"Regression model and preprocessor saved successfully.\")\n",
        "\n",
        "        # Step 5: Classification\n",
        "        print(\"Step 5: Training classification model...\")\n",
        "        X_train_clf, _, y_train_clf, _, clf_preprocessor, label_encoder = prepare_classification_data(df)\n",
        "        print(f\"Classification training data shape: {X_train_clf.shape}\")\n",
        "        clf_model = RandomForestClassifier(n_estimators=200, max_depth=20, min_samples_split=2, random_state=42)\n",
        "        print(\"Fitting classification model...\")\n",
        "        clf_model.fit(X_train_clf, y_train_clf)\n",
        "        print(\"Classification model trained successfully.\")\n",
        "        clf_model_path = os.path.join(drive_model_dir, 'clf_model.joblib')\n",
        "        print(f\"Saving classification model to {clf_model_path}...\")\n",
        "        joblib.dump(clf_model, clf_model_path)\n",
        "        if not os.path.exists(clf_model_path):\n",
        "            raise RuntimeError(f\"Failed to save classification model to {clf_model_path}\")\n",
        "        clf_preprocessor_path = os.path.join(drive_model_dir, 'clf_preprocessor.joblib')\n",
        "        print(f\"Saving classification preprocessor to {clf_preprocessor_path}...\")\n",
        "        joblib.dump(clf_preprocessor, clf_preprocessor_path)\n",
        "        if not os.path.exists(clf_preprocessor_path):\n",
        "            raise RuntimeError(f\"Failed to save classification preprocessor to {clf_preprocessor_path}\")\n",
        "        label_encoder_path = os.path.join(drive_model_dir, 'label_encoder.joblib')\n",
        "        print(f\"Saving label encoder to {label_encoder_path}...\")\n",
        "        joblib.dump(label_encoder, label_encoder_path)\n",
        "        if not os.path.exists(label_encoder_path):\n",
        "            raise RuntimeError(f\"Failed to save label encoder to {label_encoder_path}\")\n",
        "        print(\"Classification model, preprocessor, and label encoder saved successfully.\")\n",
        "\n",
        "        print(\"Step 6: All models trained and saved successfully to Google Drive at\", drive_model_dir)\n",
        "        # ***Corrected Section End***\n",
        "    except Exception as e:\n",
        "        print(f\"Error during model training: {str(e)}\")\n",
        "        raise\n"
      ],
      "metadata": {
        "id": "NaOKVT13L48i"
      },
      "execution_count": 66,
      "outputs": []
    },
    {
      "cell_type": "code",
      "source": [
        "# --- Load Models and Preprocessors ---\n",
        "def load_models():\n",
        "    model_files = [\n",
        "        os.path.join(drive_model_dir, 'reg_model.joblib'),\n",
        "        os.path.join(drive_model_dir, 'reg_preprocessor.joblib'),\n",
        "        os.path.join(drive_model_dir, 'clf_model.joblib'),\n",
        "        os.path.join(drive_model_dir, 'clf_preprocessor.joblib'),\n",
        "        os.path.join(drive_model_dir, 'label_encoder.joblib')\n",
        "    ]\n",
        "    if not all(os.path.exists(f) for f in model_files):\n",
        "        print(\"Model files not found on Google Drive. Training models now...\")\n",
        "        train_and_save_models()\n",
        "    reg_model = joblib.load(model_files[0])\n",
        "    reg_preprocessor = joblib.load(model_files[1])\n",
        "    clf_model = joblib.load(model_files[2])\n",
        "    clf_preprocessor = joblib.load(model_files[3])\n",
        "    label_encoder = joblib.load(model_files[4])\n",
        "    return reg_model, reg_preprocessor, clf_model, clf_preprocessor, label_encoder\n",
        "\n",
        "# Ensure we're running in a Colab environment\n",
        "try:\n",
        "    from IPython import get_ipython\n",
        "    if 'google.colab' not in str(get_ipython()):\n",
        "        raise RuntimeError(\"This script must be run in Google Colab.\")\n",
        "    print(\"Confirmed: Running in Google Colab environment.\")\n",
        "except ImportError:\n",
        "    raise RuntimeError(\"This script must be run in Google Colab.\")\n",
        "\n",
        "# Define model paths\n",
        "drive_model_dir = '/content/drive/MyDrive/disaster_models/'\n",
        "model_files = [\n",
        "    os.path.join(drive_model_dir, 'reg_model.joblib'),\n",
        "    os.path.join(drive_model_dir, 'reg_preprocessor.joblib'),\n",
        "    os.path.join(drive_model_dir, 'clf_model.joblib'),\n",
        "    os.path.join(drive_model_dir, 'clf_preprocessor.joblib'),\n",
        "    os.path.join(drive_model_dir, 'label_encoder.joblib')\n",
        "]\n",
        "\n",
        "# Check if model files exist; if not, train and save them\n",
        "if not all(os.path.exists(f) for f in model_files):\n",
        "    print(\"Model files not found on Google Drive. Training models now...\")\n",
        "    try:\n",
        "        train_and_save_models()\n",
        "    except Exception as e:\n",
        "        print(f\"Failed to train models: {str(e)}\")\n",
        "        raise\n"
      ],
      "metadata": {
        "colab": {
          "base_uri": "https://localhost:8080/"
        },
        "id": "lqsbxwFoMTbY",
        "outputId": "8964ebf5-90ec-4875-9667-024159f13d7d"
      },
      "execution_count": 67,
      "outputs": [
        {
          "output_type": "stream",
          "name": "stdout",
          "text": [
            "Confirmed: Running in Google Colab environment.\n",
            "Model files not found on Google Drive. Training models now...\n",
            "Step 1: Attempting to load dataset from /content/disaster_dataset.csv...\n",
            "Dataset loaded successfully. Shape: (1000, 9)\n",
            "Dataset shape after dropping NaN values: (1000, 9)\n",
            "Step 2: Checking for required columns in the dataset...\n",
            "All required columns are present in the dataset.\n",
            "Step 3: Checking data types and non-null values...\n",
            "Data types and non-null checks passed successfully.\n",
            "Dataset dtypes:\n",
            " Disaster_ID                    int64\n",
            "Disaster_Type                 object\n",
            "Region                        object\n",
            "Year                           int64\n",
            "Severity_Level                object\n",
            "Magnitude_or_Intensity       float64\n",
            "Economic_Loss_USD_Million    float64\n",
            "Fatalities                     int64\n",
            "Affected_Population            int64\n",
            "dtype: object\n",
            "First few rows of the dataset:\n",
            "    Disaster_ID Disaster_Type  Region  Year Severity_Level  \\\n",
            "0            1      Wildfire    Asia  1987       Moderate   \n",
            "1            2       Tornado    Asia  2004         Severe   \n",
            "2            3     Hurricane    Asia  1983            Low   \n",
            "3            4       Tornado    Asia  2012         Severe   \n",
            "4            5       Tornado  Africa  1980         Severe   \n",
            "\n",
            "   Magnitude_or_Intensity  Economic_Loss_USD_Million  Fatalities  \\\n",
            "0                    4.32                    1995.35          23   \n",
            "1                    4.33                    4139.49          25   \n",
            "2                    1.47                     861.83          15   \n",
            "3                    7.91                     162.01          21   \n",
            "4                    4.75                    1030.20          23   \n",
            "\n",
            "   Affected_Population  \n",
            "0               414850  \n",
            "1               877802  \n",
            "2               494749  \n",
            "3               164044  \n",
            "4               499053  \n",
            "Step 4: Training regression model...\n",
            "Regression training data shape: (800, 16)\n",
            "Fitting regression model...\n",
            "Regression model trained successfully.\n",
            "Saving regression model to /content/drive/MyDrive/disaster_models/reg_model.joblib...\n",
            "Saving regression preprocessor to /content/drive/MyDrive/disaster_models/reg_preprocessor.joblib...\n",
            "Regression model and preprocessor saved successfully.\n",
            "Step 5: Training classification model...\n",
            "Classification training data shape: (800, 14)\n",
            "Fitting classification model...\n",
            "Classification model trained successfully.\n",
            "Saving classification model to /content/drive/MyDrive/disaster_models/clf_model.joblib...\n",
            "Saving classification preprocessor to /content/drive/MyDrive/disaster_models/clf_preprocessor.joblib...\n",
            "Saving label encoder to /content/drive/MyDrive/disaster_models/label_encoder.joblib...\n",
            "Classification model, preprocessor, and label encoder saved successfully.\n",
            "Step 6: All models trained and saved successfully to Google Drive at /content/drive/MyDrive/disaster_models/\n"
          ]
        }
      ]
    },
    {
      "cell_type": "code",
      "source": [],
      "metadata": {
        "id": "8uqRnv6FMgjc"
      },
      "execution_count": null,
      "outputs": []
    },
    {
      "cell_type": "code",
      "source": [
        "# --- Load Models and Preprocessors ---\n",
        "def load_models():\n",
        "    if not all(os.path.exists(f) for f in ['/content/reg_model.joblib', '/content/reg_preprocessor.joblib', '/content/clf_model.joblib', '/content/clf_preprocessor.joblib', '/content/label_encoder.joblib']):\n",
        "        train_and_save_models()\n",
        "    reg_model = joblib.load('/content/reg_model.joblib')\n",
        "    reg_preprocessor = joblib.load('/content/reg_preprocessor.joblib')\n",
        "    clf_model = joblib.load('/content/clf_model.joblib')\n",
        "    clf_preprocessor = joblib.load('/content/clf_preprocessor.joblib')\n",
        "    label_encoder = joblib.load('/content/label_encoder.joblib')\n",
        "    return reg_model, reg_preprocessor, clf_model, clf_preprocessor, label_encoder"
      ],
      "metadata": {
        "id": "qgolexrkNhIF"
      },
      "execution_count": 46,
      "outputs": []
    },
    {
      "cell_type": "markdown",
      "source": [
        "Deployment or Dashboard (Optional)"
      ],
      "metadata": {
        "id": "be3NbWK6aLqy"
      }
    },
    {
      "cell_type": "code",
      "source": [
        "# Manually write dashboard.py without %%writefile\n",
        "dashboard_code = \"\"\"\\\n",
        "import streamlit as st\n",
        "import pandas as pd\n",
        "import numpy as np\n",
        "import joblib\n",
        "\n",
        "# Define paths for model files on Google Drive\n",
        "drive_model_dir = '/content/drive/MyDrive/disaster_models/'\n",
        "\n",
        "# Load models and preprocessors\n",
        "reg_model = joblib.load(drive_model_dir + 'reg_model.joblib')\n",
        "reg_preprocessor = joblib.load(drive_model_dir + 'reg_preprocessor.joblib')\n",
        "clf_model = joblib.load(drive_model_dir + 'clf_model.joblib')\n",
        "clf_preprocessor = joblib.load(drive_model_dir + 'clf_preprocessor.joblib')\n",
        "label_encoder = joblib.load(drive_model_dir + 'label_encoder.joblib')\n",
        "\n",
        "st.title(\"Disaster Impact Prediction Dashboard\")\n",
        "st.markdown(\"Enter disaster details to predict **Economic Loss (USD Million)** and **Severity Level**.\")\n",
        "\n",
        "# Input form\n",
        "with st.form(\"disaster_form\"):\n",
        "    st.header(\"Input Disaster Details\")\n",
        "    year = st.number_input(\"Year\", min_value=1980, max_value=2025, value=2020)\n",
        "    magnitude = st.number_input(\"Magnitude/Intensity\", min_value=0.0, value=5.0)\n",
        "    fatalities = st.number_input(\"Fatalities\", min_value=0, value=0)\n",
        "    affected_population = st.number_input(\"Affected Population\", min_value=0, value=0)\n",
        "    economic_loss = st.number_input(\"Economic Loss (USD Million, for Severity Prediction)\", min_value=0.0, value=0.0)\n",
        "    disaster_type = st.selectbox(\"Disaster Type\", ['Hurricane', 'Wildfire', 'Flood', 'Earthquake', 'Other'])\n",
        "    region = st.selectbox(\"Region\", ['North America', 'Australia', 'Asia', 'Europe', 'South America', 'Africa'])\n",
        "    severity_level = st.selectbox(\"Severity Level (for Economic Loss Prediction)\", ['Low', 'Moderate', 'High', 'Severe'])\n",
        "    submit_button = st.form_submit_button(\"Predict\")\n",
        "\n",
        "# Prediction logic\n",
        "if submit_button:\n",
        "    # Prepare regression input\n",
        "    reg_input = pd.DataFrame({\n",
        "        'Year': [year],\n",
        "        'Magnitude_or_Intensity': [magnitude],\n",
        "        'Fatalities': [fatalities],\n",
        "        'Affected_Population': [affected_population],\n",
        "        'Disaster_Type': [disaster_type],\n",
        "        'Region': [region],\n",
        "        'Severity_Level': [severity_level]\n",
        "    })\n",
        "    reg_input_processed = reg_preprocessor.transform(reg_input)\n",
        "    reg_prediction = reg_model.predict(reg_input_processed)[0]\n",
        "\n",
        "    # Prepare classification input\n",
        "    clf_input = pd.DataFrame({\n",
        "        'Year': [year],\n",
        "        'Magnitude_or_Intensity': [magnitude],\n",
        "        'Fatalities': [fatalities],\n",
        "        'Affected_Population': [affected_population],\n",
        "        'Economic_Loss_USD_Million': [economic_loss],\n",
        "        'Disaster_Type': [disaster_type],\n",
        "        'Region': [region]\n",
        "    })\n",
        "    clf_input_processed = clf_preprocessor.transform(clf_input)\n",
        "    clf_prediction = clf_model.predict(clf_input_processed)[0]\n",
        "    clf_prediction_label = label_encoder.inverse_transform([clf_prediction])[0]\n",
        "\n",
        "    # Display predictions\n",
        "    st.header(\"Prediction Results\")\n",
        "    st.write(f\"**Predicted Economic Loss**: ${reg_prediction:,.2f} Million USD\")\n",
        "    st.write(f\"**Predicted Severity Level**: {clf_prediction_label}\")\n",
        "\n",
        "    # Simple visualization\n",
        "    st.header(\"Prediction Summary\")\n",
        "    st.bar_chart({\n",
        "        \"Economic Loss ($M)\": [reg_prediction],\n",
        "        \"Severity Score (Encoded)\": [clf_prediction]\n",
        "    })\n",
        "\n",
        "st.markdown(\"---\")\n",
        "st.markdown(\"Built with Streamlit | Models: Random Forest | Data: Disaster Dataset\")\n",
        "\"\"\"\n",
        "with open(\"dashboard.py\", \"w\") as f:\n",
        "    f.write(dashboard_code)\n",
        "print(\"dashboard.py written successfully using manual file I/O.\")\n"
      ],
      "metadata": {
        "colab": {
          "base_uri": "https://localhost:8080/"
        },
        "id": "3iA2FP9GN-sk",
        "outputId": "6d098950-db01-4ff4-d206-5c9b727cad41"
      },
      "execution_count": 68,
      "outputs": [
        {
          "output_type": "stream",
          "name": "stdout",
          "text": [
            "dashboard.py written successfully using manual file I/O.\n"
          ]
        }
      ]
    },
    {
      "cell_type": "markdown",
      "source": [
        "APP"
      ],
      "metadata": {
        "id": "pvH8Fg2HaR3h"
      }
    },
    {
      "cell_type": "code",
      "source": [
        "# --- Run Streamlit with ngrok ---\n",
        "from pyngrok import ngrok\n",
        "import subprocess\n",
        "\n",
        "# Kill any existing ngrok processes to avoid tunnel limit error\n",
        "!pkill ngrok\n",
        "\n",
        "# Set up ngrok with your valid authtoken\n",
        "# Replace with a new authtoken from https://dashboard.ngrok.com/get-started/your-authtoken after verifying your account\n",
        "!ngrok authtoken 2wOMZK76mTel1Qs3meFVJ0BkOEt_647xLyLA2cRFnrkvxWaKY\n",
        "\n",
        "# Start a new tunnel\n",
        "public_url = ngrok.connect(8501)\n",
        "print(f\"Streamlit app running at: {public_url}\")\n",
        "\n",
        "# Run Streamlit in the background\n",
        "subprocess.Popen([\"streamlit\", \"run\", \"dashboard.py\", \"--server.port\", \"8501\"])\n",
        "\n"
      ],
      "metadata": {
        "colab": {
          "base_uri": "https://localhost:8080/"
        },
        "id": "gH7GXRTsW0Jj",
        "outputId": "5985b20a-4a65-4f70-b1c2-ed2b3fe31487"
      },
      "execution_count": 69,
      "outputs": [
        {
          "output_type": "stream",
          "name": "stdout",
          "text": [
            "Authtoken saved to configuration file: /root/.config/ngrok/ngrok.yml\n",
            "Streamlit app running at: NgrokTunnel: \"https://96b6-34-23-8-133.ngrok-free.app\" -> \"http://localhost:8501\"\n"
          ]
        },
        {
          "output_type": "execute_result",
          "data": {
            "text/plain": [
              "<Popen: returncode: None args: ['streamlit', 'run', 'dashboard.py', '--serve...>"
            ]
          },
          "metadata": {},
          "execution_count": 69
        }
      ]
    },
    {
      "cell_type": "code",
      "source": [
        "from google.colab import files\n",
        "\n",
        "# Download the notebook (if needed)\n",
        "# files.download('/content/Disaster_Impact_EDA.ipynb')\n",
        "\n",
        "# Download the dashboard script\n",
        "files.download('/content/dashboard.py')\n",
        "\n",
        "# Download the dataset\n",
        "files.download('/content/disaster_dataset.csv')\n",
        "\n",
        "# Download model files (adjust paths as needed)\n",
        "for file in ['reg_model.joblib', 'reg_preprocessor.joblib', 'clf_model.joblib', 'clf_preprocessor.joblib', 'label_encoder.joblib']:\n",
        "    files.download(f'/content/drive/MyDrive/disaster_models/{file}')\n",
        "\n",
        "# Download visualizations (adjust filenames as needed)\n",
        "for viz in ['distributions.png', 'correlation_heatmap.png']:\n",
        "    files.download(f'/content/{viz}')\n",
        "\n",
        "# Generate and download requirements.txt if not already done\n",
        "requirements = \"\"\"\\\n",
        "streamlit==1.38.0\n",
        "pandas==2.2.2\n",
        "numpy==1.26.4\n",
        "scikit-learn==1.5.1\n",
        "xgboost==2.1.1\n",
        "joblib==1.4.2\n",
        "matplotlib==3.8.4\n",
        "seaborn==0.13.2\n",
        "\"\"\"\n",
        "with open(\"requirements.txt\", \"w\") as f:\n",
        "    f.write(requirements)\n",
        "files.download('/content/requirements.txt')"
      ],
      "metadata": {
        "colab": {
          "base_uri": "https://localhost:8080/",
          "height": 332
        },
        "id": "6aPOxnvwEqLl",
        "outputId": "4f376505-d3c7-4dee-dbd7-0a523114dbd6"
      },
      "execution_count": 70,
      "outputs": [
        {
          "output_type": "display_data",
          "data": {
            "text/plain": [
              "<IPython.core.display.Javascript object>"
            ],
            "application/javascript": [
              "\n",
              "    async function download(id, filename, size) {\n",
              "      if (!google.colab.kernel.accessAllowed) {\n",
              "        return;\n",
              "      }\n",
              "      const div = document.createElement('div');\n",
              "      const label = document.createElement('label');\n",
              "      label.textContent = `Downloading \"${filename}\": `;\n",
              "      div.appendChild(label);\n",
              "      const progress = document.createElement('progress');\n",
              "      progress.max = size;\n",
              "      div.appendChild(progress);\n",
              "      document.body.appendChild(div);\n",
              "\n",
              "      const buffers = [];\n",
              "      let downloaded = 0;\n",
              "\n",
              "      const channel = await google.colab.kernel.comms.open(id);\n",
              "      // Send a message to notify the kernel that we're ready.\n",
              "      channel.send({})\n",
              "\n",
              "      for await (const message of channel.messages) {\n",
              "        // Send a message to notify the kernel that we're ready.\n",
              "        channel.send({})\n",
              "        if (message.buffers) {\n",
              "          for (const buffer of message.buffers) {\n",
              "            buffers.push(buffer);\n",
              "            downloaded += buffer.byteLength;\n",
              "            progress.value = downloaded;\n",
              "          }\n",
              "        }\n",
              "      }\n",
              "      const blob = new Blob(buffers, {type: 'application/binary'});\n",
              "      const a = document.createElement('a');\n",
              "      a.href = window.URL.createObjectURL(blob);\n",
              "      a.download = filename;\n",
              "      div.appendChild(a);\n",
              "      a.click();\n",
              "      div.remove();\n",
              "    }\n",
              "  "
            ]
          },
          "metadata": {}
        },
        {
          "output_type": "display_data",
          "data": {
            "text/plain": [
              "<IPython.core.display.Javascript object>"
            ],
            "application/javascript": [
              "download(\"download_e5aff6c5-032d-42d4-9934-5ecc972b34cd\", \"dashboard.py\", 3217)"
            ]
          },
          "metadata": {}
        },
        {
          "output_type": "display_data",
          "data": {
            "text/plain": [
              "<IPython.core.display.Javascript object>"
            ],
            "application/javascript": [
              "\n",
              "    async function download(id, filename, size) {\n",
              "      if (!google.colab.kernel.accessAllowed) {\n",
              "        return;\n",
              "      }\n",
              "      const div = document.createElement('div');\n",
              "      const label = document.createElement('label');\n",
              "      label.textContent = `Downloading \"${filename}\": `;\n",
              "      div.appendChild(label);\n",
              "      const progress = document.createElement('progress');\n",
              "      progress.max = size;\n",
              "      div.appendChild(progress);\n",
              "      document.body.appendChild(div);\n",
              "\n",
              "      const buffers = [];\n",
              "      let downloaded = 0;\n",
              "\n",
              "      const channel = await google.colab.kernel.comms.open(id);\n",
              "      // Send a message to notify the kernel that we're ready.\n",
              "      channel.send({})\n",
              "\n",
              "      for await (const message of channel.messages) {\n",
              "        // Send a message to notify the kernel that we're ready.\n",
              "        channel.send({})\n",
              "        if (message.buffers) {\n",
              "          for (const buffer of message.buffers) {\n",
              "            buffers.push(buffer);\n",
              "            downloaded += buffer.byteLength;\n",
              "            progress.value = downloaded;\n",
              "          }\n",
              "        }\n",
              "      }\n",
              "      const blob = new Blob(buffers, {type: 'application/binary'});\n",
              "      const a = document.createElement('a');\n",
              "      a.href = window.URL.createObjectURL(blob);\n",
              "      a.download = filename;\n",
              "      div.appendChild(a);\n",
              "      a.click();\n",
              "      div.remove();\n",
              "    }\n",
              "  "
            ]
          },
          "metadata": {}
        },
        {
          "output_type": "display_data",
          "data": {
            "text/plain": [
              "<IPython.core.display.Javascript object>"
            ],
            "application/javascript": [
              "download(\"download_ad3ac053-d581-4e99-938c-f02fe19ab049\", \"disaster_dataset.csv\", 56068)"
            ]
          },
          "metadata": {}
        },
        {
          "output_type": "display_data",
          "data": {
            "text/plain": [
              "<IPython.core.display.Javascript object>"
            ],
            "application/javascript": [
              "\n",
              "    async function download(id, filename, size) {\n",
              "      if (!google.colab.kernel.accessAllowed) {\n",
              "        return;\n",
              "      }\n",
              "      const div = document.createElement('div');\n",
              "      const label = document.createElement('label');\n",
              "      label.textContent = `Downloading \"${filename}\": `;\n",
              "      div.appendChild(label);\n",
              "      const progress = document.createElement('progress');\n",
              "      progress.max = size;\n",
              "      div.appendChild(progress);\n",
              "      document.body.appendChild(div);\n",
              "\n",
              "      const buffers = [];\n",
              "      let downloaded = 0;\n",
              "\n",
              "      const channel = await google.colab.kernel.comms.open(id);\n",
              "      // Send a message to notify the kernel that we're ready.\n",
              "      channel.send({})\n",
              "\n",
              "      for await (const message of channel.messages) {\n",
              "        // Send a message to notify the kernel that we're ready.\n",
              "        channel.send({})\n",
              "        if (message.buffers) {\n",
              "          for (const buffer of message.buffers) {\n",
              "            buffers.push(buffer);\n",
              "            downloaded += buffer.byteLength;\n",
              "            progress.value = downloaded;\n",
              "          }\n",
              "        }\n",
              "      }\n",
              "      const blob = new Blob(buffers, {type: 'application/binary'});\n",
              "      const a = document.createElement('a');\n",
              "      a.href = window.URL.createObjectURL(blob);\n",
              "      a.download = filename;\n",
              "      div.appendChild(a);\n",
              "      a.click();\n",
              "      div.remove();\n",
              "    }\n",
              "  "
            ]
          },
          "metadata": {}
        },
        {
          "output_type": "display_data",
          "data": {
            "text/plain": [
              "<IPython.core.display.Javascript object>"
            ],
            "application/javascript": [
              "download(\"download_23a1eaec-919f-44c1-9100-16c288a2f3cf\", \"reg_model.joblib\", 14306353)"
            ]
          },
          "metadata": {}
        },
        {
          "output_type": "display_data",
          "data": {
            "text/plain": [
              "<IPython.core.display.Javascript object>"
            ],
            "application/javascript": [
              "\n",
              "    async function download(id, filename, size) {\n",
              "      if (!google.colab.kernel.accessAllowed) {\n",
              "        return;\n",
              "      }\n",
              "      const div = document.createElement('div');\n",
              "      const label = document.createElement('label');\n",
              "      label.textContent = `Downloading \"${filename}\": `;\n",
              "      div.appendChild(label);\n",
              "      const progress = document.createElement('progress');\n",
              "      progress.max = size;\n",
              "      div.appendChild(progress);\n",
              "      document.body.appendChild(div);\n",
              "\n",
              "      const buffers = [];\n",
              "      let downloaded = 0;\n",
              "\n",
              "      const channel = await google.colab.kernel.comms.open(id);\n",
              "      // Send a message to notify the kernel that we're ready.\n",
              "      channel.send({})\n",
              "\n",
              "      for await (const message of channel.messages) {\n",
              "        // Send a message to notify the kernel that we're ready.\n",
              "        channel.send({})\n",
              "        if (message.buffers) {\n",
              "          for (const buffer of message.buffers) {\n",
              "            buffers.push(buffer);\n",
              "            downloaded += buffer.byteLength;\n",
              "            progress.value = downloaded;\n",
              "          }\n",
              "        }\n",
              "      }\n",
              "      const blob = new Blob(buffers, {type: 'application/binary'});\n",
              "      const a = document.createElement('a');\n",
              "      a.href = window.URL.createObjectURL(blob);\n",
              "      a.download = filename;\n",
              "      div.appendChild(a);\n",
              "      a.click();\n",
              "      div.remove();\n",
              "    }\n",
              "  "
            ]
          },
          "metadata": {}
        },
        {
          "output_type": "display_data",
          "data": {
            "text/plain": [
              "<IPython.core.display.Javascript object>"
            ],
            "application/javascript": [
              "download(\"download_03954d9a-a65c-40e0-8b29-baa6b93c29a3\", \"reg_preprocessor.joblib\", 5170)"
            ]
          },
          "metadata": {}
        },
        {
          "output_type": "display_data",
          "data": {
            "text/plain": [
              "<IPython.core.display.Javascript object>"
            ],
            "application/javascript": [
              "\n",
              "    async function download(id, filename, size) {\n",
              "      if (!google.colab.kernel.accessAllowed) {\n",
              "        return;\n",
              "      }\n",
              "      const div = document.createElement('div');\n",
              "      const label = document.createElement('label');\n",
              "      label.textContent = `Downloading \"${filename}\": `;\n",
              "      div.appendChild(label);\n",
              "      const progress = document.createElement('progress');\n",
              "      progress.max = size;\n",
              "      div.appendChild(progress);\n",
              "      document.body.appendChild(div);\n",
              "\n",
              "      const buffers = [];\n",
              "      let downloaded = 0;\n",
              "\n",
              "      const channel = await google.colab.kernel.comms.open(id);\n",
              "      // Send a message to notify the kernel that we're ready.\n",
              "      channel.send({})\n",
              "\n",
              "      for await (const message of channel.messages) {\n",
              "        // Send a message to notify the kernel that we're ready.\n",
              "        channel.send({})\n",
              "        if (message.buffers) {\n",
              "          for (const buffer of message.buffers) {\n",
              "            buffers.push(buffer);\n",
              "            downloaded += buffer.byteLength;\n",
              "            progress.value = downloaded;\n",
              "          }\n",
              "        }\n",
              "      }\n",
              "      const blob = new Blob(buffers, {type: 'application/binary'});\n",
              "      const a = document.createElement('a');\n",
              "      a.href = window.URL.createObjectURL(blob);\n",
              "      a.download = filename;\n",
              "      div.appendChild(a);\n",
              "      a.click();\n",
              "      div.remove();\n",
              "    }\n",
              "  "
            ]
          },
          "metadata": {}
        },
        {
          "output_type": "display_data",
          "data": {
            "text/plain": [
              "<IPython.core.display.Javascript object>"
            ],
            "application/javascript": [
              "download(\"download_03dfc2d2-9e0e-4406-bc3f-fc93848c270c\", \"clf_model.joblib\", 12413369)"
            ]
          },
          "metadata": {}
        },
        {
          "output_type": "display_data",
          "data": {
            "text/plain": [
              "<IPython.core.display.Javascript object>"
            ],
            "application/javascript": [
              "\n",
              "    async function download(id, filename, size) {\n",
              "      if (!google.colab.kernel.accessAllowed) {\n",
              "        return;\n",
              "      }\n",
              "      const div = document.createElement('div');\n",
              "      const label = document.createElement('label');\n",
              "      label.textContent = `Downloading \"${filename}\": `;\n",
              "      div.appendChild(label);\n",
              "      const progress = document.createElement('progress');\n",
              "      progress.max = size;\n",
              "      div.appendChild(progress);\n",
              "      document.body.appendChild(div);\n",
              "\n",
              "      const buffers = [];\n",
              "      let downloaded = 0;\n",
              "\n",
              "      const channel = await google.colab.kernel.comms.open(id);\n",
              "      // Send a message to notify the kernel that we're ready.\n",
              "      channel.send({})\n",
              "\n",
              "      for await (const message of channel.messages) {\n",
              "        // Send a message to notify the kernel that we're ready.\n",
              "        channel.send({})\n",
              "        if (message.buffers) {\n",
              "          for (const buffer of message.buffers) {\n",
              "            buffers.push(buffer);\n",
              "            downloaded += buffer.byteLength;\n",
              "            progress.value = downloaded;\n",
              "          }\n",
              "        }\n",
              "      }\n",
              "      const blob = new Blob(buffers, {type: 'application/binary'});\n",
              "      const a = document.createElement('a');\n",
              "      a.href = window.URL.createObjectURL(blob);\n",
              "      a.download = filename;\n",
              "      div.appendChild(a);\n",
              "      a.click();\n",
              "      div.remove();\n",
              "    }\n",
              "  "
            ]
          },
          "metadata": {}
        },
        {
          "output_type": "display_data",
          "data": {
            "text/plain": [
              "<IPython.core.display.Javascript object>"
            ],
            "application/javascript": [
              "download(\"download_a0d9813d-3a64-4500-a5fb-668b86ed0a20\", \"clf_preprocessor.joblib\", 4048)"
            ]
          },
          "metadata": {}
        },
        {
          "output_type": "display_data",
          "data": {
            "text/plain": [
              "<IPython.core.display.Javascript object>"
            ],
            "application/javascript": [
              "\n",
              "    async function download(id, filename, size) {\n",
              "      if (!google.colab.kernel.accessAllowed) {\n",
              "        return;\n",
              "      }\n",
              "      const div = document.createElement('div');\n",
              "      const label = document.createElement('label');\n",
              "      label.textContent = `Downloading \"${filename}\": `;\n",
              "      div.appendChild(label);\n",
              "      const progress = document.createElement('progress');\n",
              "      progress.max = size;\n",
              "      div.appendChild(progress);\n",
              "      document.body.appendChild(div);\n",
              "\n",
              "      const buffers = [];\n",
              "      let downloaded = 0;\n",
              "\n",
              "      const channel = await google.colab.kernel.comms.open(id);\n",
              "      // Send a message to notify the kernel that we're ready.\n",
              "      channel.send({})\n",
              "\n",
              "      for await (const message of channel.messages) {\n",
              "        // Send a message to notify the kernel that we're ready.\n",
              "        channel.send({})\n",
              "        if (message.buffers) {\n",
              "          for (const buffer of message.buffers) {\n",
              "            buffers.push(buffer);\n",
              "            downloaded += buffer.byteLength;\n",
              "            progress.value = downloaded;\n",
              "          }\n",
              "        }\n",
              "      }\n",
              "      const blob = new Blob(buffers, {type: 'application/binary'});\n",
              "      const a = document.createElement('a');\n",
              "      a.href = window.URL.createObjectURL(blob);\n",
              "      a.download = filename;\n",
              "      div.appendChild(a);\n",
              "      a.click();\n",
              "      div.remove();\n",
              "    }\n",
              "  "
            ]
          },
          "metadata": {}
        },
        {
          "output_type": "display_data",
          "data": {
            "text/plain": [
              "<IPython.core.display.Javascript object>"
            ],
            "application/javascript": [
              "download(\"download_a98f79d1-f4fb-425b-928e-46d45a22ce3c\", \"label_encoder.joblib\", 568)"
            ]
          },
          "metadata": {}
        },
        {
          "output_type": "error",
          "ename": "FileNotFoundError",
          "evalue": "Cannot find file: /content/distributions.png",
          "traceback": [
            "\u001b[0;31m---------------------------------------------------------------------------\u001b[0m",
            "\u001b[0;31mFileNotFoundError\u001b[0m                         Traceback (most recent call last)",
            "\u001b[0;32m<ipython-input-70-a1a176640497>\u001b[0m in \u001b[0;36m<cell line: 0>\u001b[0;34m()\u001b[0m\n\u001b[1;32m     16\u001b[0m \u001b[0;31m# Download visualizations (adjust filenames as needed)\u001b[0m\u001b[0;34m\u001b[0m\u001b[0;34m\u001b[0m\u001b[0m\n\u001b[1;32m     17\u001b[0m \u001b[0;32mfor\u001b[0m \u001b[0mviz\u001b[0m \u001b[0;32min\u001b[0m \u001b[0;34m[\u001b[0m\u001b[0;34m'distributions.png'\u001b[0m\u001b[0;34m,\u001b[0m \u001b[0;34m'correlation_heatmap.png'\u001b[0m\u001b[0;34m]\u001b[0m\u001b[0;34m:\u001b[0m\u001b[0;34m\u001b[0m\u001b[0;34m\u001b[0m\u001b[0m\n\u001b[0;32m---> 18\u001b[0;31m     \u001b[0mfiles\u001b[0m\u001b[0;34m.\u001b[0m\u001b[0mdownload\u001b[0m\u001b[0;34m(\u001b[0m\u001b[0;34mf'/content/{viz}'\u001b[0m\u001b[0;34m)\u001b[0m\u001b[0;34m\u001b[0m\u001b[0;34m\u001b[0m\u001b[0m\n\u001b[0m\u001b[1;32m     19\u001b[0m \u001b[0;34m\u001b[0m\u001b[0m\n\u001b[1;32m     20\u001b[0m \u001b[0;31m# Generate and download requirements.txt if not already done\u001b[0m\u001b[0;34m\u001b[0m\u001b[0;34m\u001b[0m\u001b[0m\n",
            "\u001b[0;32m/usr/local/lib/python3.11/dist-packages/google/colab/files.py\u001b[0m in \u001b[0;36mdownload\u001b[0;34m(filename)\u001b[0m\n\u001b[1;32m    231\u001b[0m   \u001b[0;32mif\u001b[0m \u001b[0;32mnot\u001b[0m \u001b[0m_os\u001b[0m\u001b[0;34m.\u001b[0m\u001b[0mpath\u001b[0m\u001b[0;34m.\u001b[0m\u001b[0mexists\u001b[0m\u001b[0;34m(\u001b[0m\u001b[0mfilename\u001b[0m\u001b[0;34m)\u001b[0m\u001b[0;34m:\u001b[0m\u001b[0;34m\u001b[0m\u001b[0;34m\u001b[0m\u001b[0m\n\u001b[1;32m    232\u001b[0m     \u001b[0mmsg\u001b[0m \u001b[0;34m=\u001b[0m \u001b[0;34m'Cannot find file: {}'\u001b[0m\u001b[0;34m.\u001b[0m\u001b[0mformat\u001b[0m\u001b[0;34m(\u001b[0m\u001b[0mfilename\u001b[0m\u001b[0;34m)\u001b[0m\u001b[0;34m\u001b[0m\u001b[0;34m\u001b[0m\u001b[0m\n\u001b[0;32m--> 233\u001b[0;31m     \u001b[0;32mraise\u001b[0m \u001b[0mFileNotFoundError\u001b[0m\u001b[0;34m(\u001b[0m\u001b[0mmsg\u001b[0m\u001b[0;34m)\u001b[0m  \u001b[0;31m# pylint: disable=undefined-variable\u001b[0m\u001b[0;34m\u001b[0m\u001b[0;34m\u001b[0m\u001b[0m\n\u001b[0m\u001b[1;32m    234\u001b[0m \u001b[0;34m\u001b[0m\u001b[0m\n\u001b[1;32m    235\u001b[0m   \u001b[0mcomm_manager\u001b[0m \u001b[0;34m=\u001b[0m \u001b[0m_IPython\u001b[0m\u001b[0;34m.\u001b[0m\u001b[0mget_ipython\u001b[0m\u001b[0;34m(\u001b[0m\u001b[0;34m)\u001b[0m\u001b[0;34m.\u001b[0m\u001b[0mkernel\u001b[0m\u001b[0;34m.\u001b[0m\u001b[0mcomm_manager\u001b[0m\u001b[0;34m\u001b[0m\u001b[0;34m\u001b[0m\u001b[0m\n",
            "\u001b[0;31mFileNotFoundError\u001b[0m: Cannot find file: /content/distributions.png"
          ]
        }
      ]
    },
    {
      "cell_type": "code",
      "source": [],
      "metadata": {
        "id": "LzvYXa3sSJ9r"
      },
      "execution_count": null,
      "outputs": []
    }
  ]
}